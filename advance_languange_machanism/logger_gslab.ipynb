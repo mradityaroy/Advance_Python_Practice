{
 "cells": [
  {
   "cell_type": "markdown",
   "id": "6e7d5e28",
   "metadata": {},
   "source": [
    "# How class is implemented as logger"
   ]
  },
  {
   "cell_type": "code",
   "execution_count": 2,
   "id": "a36f0e31",
   "metadata": {},
   "outputs": [
    {
     "name": "stdout",
     "output_type": "stream",
     "text": [
      "I am in f1\n",
      "I am in f2\n",
      "I am in f3\n"
     ]
    }
   ],
   "source": [
    "import sys,time\n",
    "\n",
    "class Logger:\n",
    "    def __init__(self, ref_fun):\n",
    "        self.decorated_function = ref_fun\n",
    "        self.file_name = \"abc.txt\"\n",
    "        log_handle = open(self.file_name, 'w')\n",
    "        log_handle.close()\n",
    "        \n",
    "    def __call__(self, *args, **kwargs):\n",
    "        log_handle = open(self.file_name, 'a')\n",
    "        print(\"-\" * 65, time.ctime(time.time()), file = log_handle)\n",
    "        for i in range(len(args)):\n",
    "            print(\"args[\", i, \"]\", args[i], file = log_handle)\n",
    "        for k in kwargs:\n",
    "            print(k, \":\", kwargs[k], file = log_handle)\n",
    "        log_handle.close()\n",
    "        return (self.decorated_function(*args, **kwargs))\n",
    "@Logger   \n",
    "def f1(a, b, c):\n",
    "    print(\"I am in f1\")\n",
    "\n",
    "@Logger    \n",
    "def f2(a, b, c, d=10):\n",
    "    print(\"I am in f2\")\n",
    "\n",
    "@Logger    \n",
    "def f3(a,b, c, *d, f=10, g, h):\n",
    "    print(\"I am in f3\")\n",
    "    \n",
    "def main():\n",
    "    f1(10, 20,30)\n",
    "    f2(100, 200, 300, d=-1)\n",
    "    f3(10, 20, 30, *(-1, -2, -3), f=-10, g=-1000, h=-2000)\n",
    "    sys.exit\n",
    "main()"
   ]
  }
 ],
 "metadata": {
  "kernelspec": {
   "display_name": "Python 3 (ipykernel)",
   "language": "python",
   "name": "python3"
  },
  "language_info": {
   "codemirror_mode": {
    "name": "ipython",
    "version": 3
   },
   "file_extension": ".py",
   "mimetype": "text/x-python",
   "name": "python",
   "nbconvert_exporter": "python",
   "pygments_lexer": "ipython3",
   "version": "3.8.10"
  }
 },
 "nbformat": 4,
 "nbformat_minor": 5
}
