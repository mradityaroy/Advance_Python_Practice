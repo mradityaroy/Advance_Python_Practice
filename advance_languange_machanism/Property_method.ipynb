{
 "cells": [
  {
   "cell_type": "code",
   "execution_count": 19,
   "id": "ab5829c5",
   "metadata": {},
   "outputs": [
    {
     "name": "stdout",
     "output_type": "stream",
     "text": [
      "<class 'property'>\n"
     ]
    }
   ],
   "source": [
    "p = property()\n",
    "print(type(p))"
   ]
  },
  {
   "cell_type": "code",
   "execution_count": 6,
   "id": "fea73c88",
   "metadata": {},
   "outputs": [
    {
     "ename": "TypeError",
     "evalue": "'NoneType' object is not callable",
     "output_type": "error",
     "traceback": [
      "\u001b[0;31m---------------------------------------------------------------------------\u001b[0m",
      "\u001b[0;31mTypeError\u001b[0m                                 Traceback (most recent call last)",
      "Input \u001b[0;32mIn [6]\u001b[0m, in \u001b[0;36m<cell line: 1>\u001b[0;34m()\u001b[0m\n\u001b[0;32m----> 1\u001b[0m \u001b[43mp\u001b[49m\u001b[38;5;241;43m.\u001b[39;49m\u001b[43mfget\u001b[49m\u001b[43m(\u001b[49m\u001b[43m)\u001b[49m\n",
      "\u001b[0;31mTypeError\u001b[0m: 'NoneType' object is not callable"
     ]
    }
   ],
   "source": [
    "p.fget()"
   ]
  },
  {
   "cell_type": "code",
   "execution_count": 7,
   "id": "7ed4bfc1",
   "metadata": {},
   "outputs": [
    {
     "name": "stdout",
     "output_type": "stream",
     "text": [
      "<class 'property'>\n"
     ]
    }
   ],
   "source": [
    "p = property(1,2,3)\n",
    "print(type(p))"
   ]
  },
  {
   "cell_type": "code",
   "execution_count": 9,
   "id": "d17c34da",
   "metadata": {},
   "outputs": [
    {
     "ename": "TypeError",
     "evalue": "'int' object is not callable",
     "output_type": "error",
     "traceback": [
      "\u001b[0;31m---------------------------------------------------------------------------\u001b[0m",
      "\u001b[0;31mTypeError\u001b[0m                                 Traceback (most recent call last)",
      "Input \u001b[0;32mIn [9]\u001b[0m, in \u001b[0;36m<cell line: 1>\u001b[0;34m()\u001b[0m\n\u001b[0;32m----> 1\u001b[0m \u001b[43mp\u001b[49m\u001b[38;5;241;43m.\u001b[39;49m\u001b[43mfget\u001b[49m\u001b[43m(\u001b[49m\u001b[43m)\u001b[49m\n",
      "\u001b[0;31mTypeError\u001b[0m: 'int' object is not callable"
     ]
    }
   ],
   "source": [
    "p.fget()"
   ]
  },
  {
   "cell_type": "code",
   "execution_count": 12,
   "id": "f641f572",
   "metadata": {},
   "outputs": [],
   "source": [
    "rs=p.getter(1)"
   ]
  },
  {
   "cell_type": "code",
   "execution_count": 14,
   "id": "b39a8d0e",
   "metadata": {},
   "outputs": [
    {
     "name": "stdout",
     "output_type": "stream",
     "text": [
      "<property object at 0x7f740f9b3bd0>\n"
     ]
    }
   ],
   "source": [
    "print(rs)"
   ]
  },
  {
   "cell_type": "code",
   "execution_count": 20,
   "id": "b76ef110",
   "metadata": {},
   "outputs": [
    {
     "data": {
      "text/plain": [
       "mappingproxy({'__getattribute__': <slot wrapper '__getattribute__' of 'property' objects>,\n",
       "              '__get__': <slot wrapper '__get__' of 'property' objects>,\n",
       "              '__set__': <slot wrapper '__set__' of 'property' objects>,\n",
       "              '__delete__': <slot wrapper '__delete__' of 'property' objects>,\n",
       "              '__init__': <slot wrapper '__init__' of 'property' objects>,\n",
       "              '__new__': <function property.__new__(*args, **kwargs)>,\n",
       "              'getter': <method 'getter' of 'property' objects>,\n",
       "              'setter': <method 'setter' of 'property' objects>,\n",
       "              'deleter': <method 'deleter' of 'property' objects>,\n",
       "              'fget': <member 'fget' of 'property' objects>,\n",
       "              'fset': <member 'fset' of 'property' objects>,\n",
       "              'fdel': <member 'fdel' of 'property' objects>,\n",
       "              '__doc__': <member '__doc__' of 'property' objects>,\n",
       "              '__isabstractmethod__': <attribute '__isabstractmethod__' of 'property' objects>})"
      ]
     },
     "execution_count": 20,
     "metadata": {},
     "output_type": "execute_result"
    }
   ],
   "source": [
    "property.__dict__\n",
    "\n",
    "\n",
    "\n",
    "#getter,setter,eleter\n",
    "#fset,fget,fdel"
   ]
  },
  {
   "cell_type": "code",
   "execution_count": 21,
   "id": "186ee3b2",
   "metadata": {},
   "outputs": [],
   "source": [
    "p.fget"
   ]
  },
  {
   "cell_type": "code",
   "execution_count": 22,
   "id": "1ecf9cb8",
   "metadata": {},
   "outputs": [],
   "source": [
    "p.fset"
   ]
  },
  {
   "cell_type": "code",
   "execution_count": 23,
   "id": "ef7a4b91",
   "metadata": {},
   "outputs": [],
   "source": [
    "p.fdel"
   ]
  },
  {
   "cell_type": "code",
   "execution_count": 32,
   "id": "3a5f78e7",
   "metadata": {},
   "outputs": [
    {
     "name": "stdout",
     "output_type": "stream",
     "text": [
      "<class 'NoneType'>\n"
     ]
    }
   ],
   "source": [
    "print(type(p.fget))"
   ]
  },
  {
   "cell_type": "code",
   "execution_count": 33,
   "id": "d4b0fbea",
   "metadata": {},
   "outputs": [
    {
     "name": "stdout",
     "output_type": "stream",
     "text": [
      "<class 'NoneType'>\n"
     ]
    }
   ],
   "source": [
    "print(type(p.fset))"
   ]
  },
  {
   "cell_type": "code",
   "execution_count": 34,
   "id": "6c26e192",
   "metadata": {},
   "outputs": [
    {
     "name": "stdout",
     "output_type": "stream",
     "text": [
      "<class 'NoneType'>\n"
     ]
    }
   ],
   "source": [
    "print(type(p.fdel))"
   ]
  },
  {
   "cell_type": "code",
   "execution_count": 35,
   "id": "9aff6436",
   "metadata": {},
   "outputs": [
    {
     "name": "stdout",
     "output_type": "stream",
     "text": [
      "fetch...\n",
      "Bob Smith\n",
      "change\n",
      "fetch...\n",
      "Robert Smith\n",
      "remove..\n",
      "--------------------\n",
      "fetch...\n",
      "Sue Jones\n",
      "name property docs\n"
     ]
    }
   ],
   "source": [
    "import sys\n",
    "\n",
    "class Person:\n",
    "    def __init__(self, name):\n",
    "        self._name = name\n",
    "    def getName(self):\n",
    "        print('fetch...')\n",
    "        return self._name\n",
    "    def setName(self, value):\n",
    "        print('change')\n",
    "        self._name = value\n",
    "    def delName(self):\n",
    "        print('remove..')\n",
    "        del self._name\n",
    "    \n",
    "    name = property(getName, setName, delName, \"name property docs\")\n",
    "    \n",
    "def main ():\n",
    "    bob =Person('Bob Smith')\n",
    "    print(bob.name)\n",
    "    bob.name = 'Robert Smith'\n",
    "    print(bob.name)\n",
    "    \n",
    "    del bob.name\n",
    "    print('-'*20)\n",
    "    sue = Person('Sue Jones')\n",
    "    print(sue.name)\n",
    "    print(Person.name.__doc__)\n",
    "    \n",
    "    sys.exit\n",
    "    \n",
    "main()"
   ]
  },
  {
   "cell_type": "code",
   "execution_count": 36,
   "id": "88bae628",
   "metadata": {},
   "outputs": [
    {
     "data": {
      "text/plain": [
       "mappingproxy({'__module__': '__main__',\n",
       "              '__init__': <function __main__.Person.__init__(self, name)>,\n",
       "              'getName': <function __main__.Person.getName(self)>,\n",
       "              'setName': <function __main__.Person.setName(self, value)>,\n",
       "              'delName': <function __main__.Person.delName(self)>,\n",
       "              'name': <property at 0x7f73f553e040>,\n",
       "              '__dict__': <attribute '__dict__' of 'Person' objects>,\n",
       "              '__weakref__': <attribute '__weakref__' of 'Person' objects>,\n",
       "              '__doc__': None})"
      ]
     },
     "execution_count": 36,
     "metadata": {},
     "output_type": "execute_result"
    }
   ],
   "source": [
    "Person.__dict__"
   ]
  },
  {
   "cell_type": "code",
   "execution_count": 39,
   "id": "1faa4e57",
   "metadata": {},
   "outputs": [
    {
     "ename": "TypeError",
     "evalue": "setName() missing 2 required positional arguments: 'self' and 'value'",
     "output_type": "error",
     "traceback": [
      "\u001b[0;31m---------------------------------------------------------------------------\u001b[0m",
      "\u001b[0;31mTypeError\u001b[0m                                 Traceback (most recent call last)",
      "Input \u001b[0;32mIn [39]\u001b[0m, in \u001b[0;36m<cell line: 1>\u001b[0;34m()\u001b[0m\n\u001b[0;32m----> 1\u001b[0m \u001b[43mPerson\u001b[49m\u001b[38;5;241;43m.\u001b[39;49m\u001b[43msetName\u001b[49m\u001b[43m(\u001b[49m\u001b[43m)\u001b[49m\n",
      "\u001b[0;31mTypeError\u001b[0m: setName() missing 2 required positional arguments: 'self' and 'value'"
     ]
    }
   ],
   "source": [
    "Person.setName()"
   ]
  },
  {
   "cell_type": "code",
   "execution_count": 42,
   "id": "d6c18331",
   "metadata": {},
   "outputs": [
    {
     "name": "stdout",
     "output_type": "stream",
     "text": [
      "Person.__dict__:------ {'__module__': '__main__', '__init__': <function Person.__init__ at 0x7f73f54845e0>, 'getName': <function Person.getName at 0x7f73f5484dc0>, 'name': <property object at 0x7f73f54e7540>, '__dict__': <attribute '__dict__' of 'Person' objects>, '__weakref__': <attribute '__weakref__' of 'Person' objects>, '__doc__': None}\n",
      "p.__dict__:------ {'_name': 'Aditya'}\n",
      "I am inside getName\n",
      "p.getName():----- Aditya\n"
     ]
    }
   ],
   "source": [
    "class Person:\n",
    "    def __init__(self, name):\n",
    "        self._name = name\n",
    "    def getName(self):\n",
    "        print(\"I am inside getName\")\n",
    "        return (self._name)\n",
    "    name = property()\n",
    "def main():\n",
    "    p = Person(\"Aditya\")\n",
    "    print(\"Person.__dict__:------\",Person.__dict__)\n",
    "    print(\"p.__dict__:------\",p.__dict__)\n",
    "    print(\"p.getName():-----\",p.getName())\n",
    "main()"
   ]
  },
  {
   "cell_type": "code",
   "execution_count": 45,
   "id": "7cebcffe",
   "metadata": {},
   "outputs": [
    {
     "name": "stdout",
     "output_type": "stream",
     "text": [
      "Person.__dict__:------ {'__module__': '__main__', '__init__': <function Person.__init__ at 0x7f73f54420d0>, 'getName': <function Person.getName at 0x7f73f5442790>, 'managedx': <property object at 0x7f73f5486f90>, '__dict__': <attribute '__dict__' of 'Person' objects>, '__weakref__': <attribute '__weakref__' of 'Person' objects>, '__doc__': None}\n",
      "p.__dict__:------ {'_name': 'Aditya'}\n",
      "I am inside getName\n",
      "p.getName():----- Aditya\n"
     ]
    }
   ],
   "source": [
    "class Person:\n",
    "    def __init__(self, name):\n",
    "        self._name = name\n",
    "    def getName(self):\n",
    "        print(\"I am inside getName\")\n",
    "        return (self._name)\n",
    "    managedx = property()\n",
    "def main():\n",
    "    p = Person(\"Aditya\")\n",
    "    print(\"Person.__dict__:------\",Person.__dict__)\n",
    "    print(\"p.__dict__:------\",p.__dict__)\n",
    "    print(\"p.getName():-----\",p.getName())\n",
    "main()"
   ]
  },
  {
   "cell_type": "code",
   "execution_count": 2,
   "id": "61a5739d",
   "metadata": {},
   "outputs": [
    {
     "name": "stdout",
     "output_type": "stream",
     "text": [
      "Person.__dict__:------ {'__module__': '__main__', '__init__': <function Person.__init__ at 0x7f987e2010d0>, 'getName': <function Person.getName at 0x7f987e201040>, 'managedX': <property object at 0x7f987e211f90>, '__dict__': <attribute '__dict__' of 'Person' objects>, '__weakref__': <attribute '__weakref__' of 'Person' objects>, '__doc__': None}\n",
      "p.__dict__:------ {'_name': 'Aditya'}\n",
      "I am inside getName\n",
      "p.getName():----- Aditya\n",
      "I am inside getName\n",
      "p.managedX:----- Aditya\n"
     ]
    }
   ],
   "source": [
    "class Person:\n",
    "    \n",
    "    def __init__(self, name):\n",
    "        self._name = name\n",
    "        \n",
    "    def getName(self):\n",
    "        print(\"I am inside getName\")\n",
    "        return (self._name)\n",
    "    \n",
    "    managedX = property(getName)\n",
    "    \n",
    "def main():\n",
    "    \n",
    "    p = Person(\"Aditya\")\n",
    "    print(\"Person.__dict__:------\",Person.__dict__)\n",
    "    print(\"p.__dict__:------\",p.__dict__)\n",
    "    print(\"p.getName():-----\",p.getName())\n",
    "    print(\"p.managedX:-----\",p.managedX)\n",
    "main()"
   ]
  },
  {
   "cell_type": "code",
   "execution_count": 3,
   "id": "fa0e56a9",
   "metadata": {},
   "outputs": [
    {
     "name": "stdout",
     "output_type": "stream",
     "text": [
      "Person.__dict__:------ {'__module__': '__main__', '__init__': <function Person.__init__ at 0x7f987e2011f0>, 'getName': <function Person.getName at 0x7f987e201550>, 'setName': <function Person.setName at 0x7f987e201670>, 'managedX': <property object at 0x7f987e211ea0>, '__dict__': <attribute '__dict__' of 'Person' objects>, '__weakref__': <attribute '__weakref__' of 'Person' objects>, '__doc__': None}\n",
      "p.__dict__:------ {'_name': 'Aditya'}\n",
      "I am inside getName\n",
      "p.getName():----- Aditya\n",
      "I am inside getName\n",
      "p.managedX:----- Aditya\n"
     ]
    },
    {
     "ename": "AttributeError",
     "evalue": "can't set attribute",
     "output_type": "error",
     "traceback": [
      "\u001b[0;31m---------------------------------------------------------------------------\u001b[0m",
      "\u001b[0;31mAttributeError\u001b[0m                            Traceback (most recent call last)",
      "Input \u001b[0;32mIn [3]\u001b[0m, in \u001b[0;36m<cell line: 26>\u001b[0;34m()\u001b[0m\n\u001b[1;32m     23\u001b[0m     \u001b[38;5;28mprint\u001b[39m(\u001b[38;5;124m\"\u001b[39m\u001b[38;5;124mp.managedX:-----\u001b[39m\u001b[38;5;124m\"\u001b[39m,p\u001b[38;5;241m.\u001b[39mmanagedX)\n\u001b[1;32m     24\u001b[0m     p\u001b[38;5;241m.\u001b[39mmanagedX \u001b[38;5;241m=\u001b[39m [\u001b[38;5;241m10\u001b[39m,\u001b[38;5;241m20\u001b[39m,\u001b[38;5;241m30\u001b[39m]\n\u001b[0;32m---> 26\u001b[0m \u001b[43mmain\u001b[49m\u001b[43m(\u001b[49m\u001b[43m)\u001b[49m\n",
      "Input \u001b[0;32mIn [3]\u001b[0m, in \u001b[0;36mmain\u001b[0;34m()\u001b[0m\n\u001b[1;32m     22\u001b[0m \u001b[38;5;28mprint\u001b[39m(\u001b[38;5;124m\"\u001b[39m\u001b[38;5;124mp.getName():-----\u001b[39m\u001b[38;5;124m\"\u001b[39m,p\u001b[38;5;241m.\u001b[39mgetName())\n\u001b[1;32m     23\u001b[0m \u001b[38;5;28mprint\u001b[39m(\u001b[38;5;124m\"\u001b[39m\u001b[38;5;124mp.managedX:-----\u001b[39m\u001b[38;5;124m\"\u001b[39m,p\u001b[38;5;241m.\u001b[39mmanagedX)\n\u001b[0;32m---> 24\u001b[0m \u001b[43mp\u001b[49m\u001b[38;5;241;43m.\u001b[39;49m\u001b[43mmanagedX\u001b[49m \u001b[38;5;241m=\u001b[39m [\u001b[38;5;241m10\u001b[39m,\u001b[38;5;241m20\u001b[39m,\u001b[38;5;241m30\u001b[39m]\n",
      "\u001b[0;31mAttributeError\u001b[0m: can't set attribute"
     ]
    }
   ],
   "source": [
    "class Person:\n",
    "    \n",
    "    def __init__(self, name):\n",
    "        self._name = name\n",
    "        \n",
    "    def getName(self):\n",
    "        print(\"I am inside getName\")\n",
    "        return (self._name)\n",
    "    \n",
    "    def setName(self, value):\n",
    "        print(\"I am inside setName\")\n",
    "        print(\"type(value):- \", type(value))\n",
    "        self._name = value\n",
    "    \n",
    "    managedX = property(getName)\n",
    "    \n",
    "def main():\n",
    "    \n",
    "    p = Person(\"Aditya\")\n",
    "    print(\"Person.__dict__:------\",Person.__dict__)\n",
    "    print(\"p.__dict__:------\",p.__dict__)\n",
    "    print(\"p.getName():-----\",p.getName())\n",
    "    print(\"p.managedX:-----\",p.managedX)\n",
    "    p.managedX = [10,20,30]\n",
    "    \n",
    "main()"
   ]
  },
  {
   "cell_type": "code",
   "execution_count": 5,
   "id": "ca7f33db",
   "metadata": {},
   "outputs": [
    {
     "name": "stdout",
     "output_type": "stream",
     "text": [
      "Person.__dict__:------ {'__module__': '__main__', '__init__': <function Person.__init__ at 0x7f987e201af0>, 'getName': <function Person.getName at 0x7f987e1da8b0>, 'setName': <function Person.setName at 0x7f987e1da790>, 'managedX': <property object at 0x7f987e1eaa40>, '__dict__': <attribute '__dict__' of 'Person' objects>, '__weakref__': <attribute '__weakref__' of 'Person' objects>, '__doc__': None}\n",
      "p.__dict__:------ {'_name': 'Aditya'}\n",
      "I am inside getName\n",
      "p.getName():----- Aditya\n",
      "I am inside getName\n",
      "p.managedX:----- Aditya\n",
      "I am inside setName\n",
      "type(value):-  <class 'list'>\n",
      "I am inside getName\n",
      "p.managedX:----- [10, 20, 30]\n"
     ]
    }
   ],
   "source": [
    "class Person:\n",
    "    \n",
    "    def __init__(self, name):\n",
    "        self._name = name\n",
    "        \n",
    "    def getName(self):\n",
    "        print(\"I am inside getName\")\n",
    "        return (self._name)\n",
    "    \n",
    "    def setName(self, value):\n",
    "        print(\"I am inside setName\")\n",
    "        print(\"type(value):- \", type(value))\n",
    "        self._name = value\n",
    "    \n",
    "    managedX = property(getName, setName)\n",
    "    \n",
    "def main():\n",
    "    \n",
    "    p = Person(\"Aditya\")\n",
    "    print(\"Person.__dict__:------\",Person.__dict__)\n",
    "    print(\"p.__dict__:------\",p.__dict__)\n",
    "    print(\"p.getName():-----\",p.getName())\n",
    "    print(\"p.managedX:-----\",p.managedX)\n",
    "    p.managedX = [10,20,30]\n",
    "    print(\"p.managedX:-----\",p.managedX)\n",
    "    \n",
    "main()"
   ]
  },
  {
   "cell_type": "code",
   "execution_count": 6,
   "id": "ab21daec",
   "metadata": {},
   "outputs": [
    {
     "name": "stdout",
     "output_type": "stream",
     "text": [
      "Person.__dict__:------ {'__module__': '__main__', '__init__': <function Person.__init__ at 0x7f98945cce50>, 'getName': <function Person.getName at 0x7f98945ccd30>, 'setName': <function Person.setName at 0x7f987e1da820>, 'delName': <function Person.delName at 0x7f987e1da9d0>, 'managedX': <property object at 0x7f987e1eac70>, '__dict__': <attribute '__dict__' of 'Person' objects>, '__weakref__': <attribute '__weakref__' of 'Person' objects>, '__doc__': None}\n",
      "p.__dict__:------ {'_name': 'Aditya'}\n",
      "I am inside getName\n",
      "p.getName():----- Aditya\n",
      "I am inside getName\n",
      "p.managedX:----- Aditya\n"
     ]
    },
    {
     "ename": "TypeError",
     "evalue": "Person is immutable object",
     "output_type": "error",
     "traceback": [
      "\u001b[0;31m---------------------------------------------------------------------------\u001b[0m",
      "\u001b[0;31mTypeError\u001b[0m                                 Traceback (most recent call last)",
      "Input \u001b[0;32mIn [6]\u001b[0m, in \u001b[0;36m<cell line: 31>\u001b[0;34m()\u001b[0m\n\u001b[1;32m     28\u001b[0m     p\u001b[38;5;241m.\u001b[39mmanagedX \u001b[38;5;241m=\u001b[39m [\u001b[38;5;241m10\u001b[39m,\u001b[38;5;241m20\u001b[39m,\u001b[38;5;241m30\u001b[39m]\n\u001b[1;32m     29\u001b[0m     \u001b[38;5;28mprint\u001b[39m(\u001b[38;5;124m\"\u001b[39m\u001b[38;5;124mp.managedX:-----\u001b[39m\u001b[38;5;124m\"\u001b[39m,p\u001b[38;5;241m.\u001b[39mmanagedX)\n\u001b[0;32m---> 31\u001b[0m \u001b[43mmain\u001b[49m\u001b[43m(\u001b[49m\u001b[43m)\u001b[49m\n",
      "Input \u001b[0;32mIn [6]\u001b[0m, in \u001b[0;36mmain\u001b[0;34m()\u001b[0m\n\u001b[1;32m     26\u001b[0m \u001b[38;5;28mprint\u001b[39m(\u001b[38;5;124m\"\u001b[39m\u001b[38;5;124mp.getName():-----\u001b[39m\u001b[38;5;124m\"\u001b[39m,p\u001b[38;5;241m.\u001b[39mgetName())\n\u001b[1;32m     27\u001b[0m \u001b[38;5;28mprint\u001b[39m(\u001b[38;5;124m\"\u001b[39m\u001b[38;5;124mp.managedX:-----\u001b[39m\u001b[38;5;124m\"\u001b[39m,p\u001b[38;5;241m.\u001b[39mmanagedX)\n\u001b[0;32m---> 28\u001b[0m \u001b[43mp\u001b[49m\u001b[38;5;241;43m.\u001b[39;49m\u001b[43mmanagedX\u001b[49m \u001b[38;5;241m=\u001b[39m [\u001b[38;5;241m10\u001b[39m,\u001b[38;5;241m20\u001b[39m,\u001b[38;5;241m30\u001b[39m]\n\u001b[1;32m     29\u001b[0m \u001b[38;5;28mprint\u001b[39m(\u001b[38;5;124m\"\u001b[39m\u001b[38;5;124mp.managedX:-----\u001b[39m\u001b[38;5;124m\"\u001b[39m,p\u001b[38;5;241m.\u001b[39mmanagedX)\n",
      "Input \u001b[0;32mIn [6]\u001b[0m, in \u001b[0;36mPerson.setName\u001b[0;34m(self, value)\u001b[0m\n\u001b[1;32m     10\u001b[0m \u001b[38;5;28;01mdef\u001b[39;00m \u001b[38;5;21msetName\u001b[39m(\u001b[38;5;28mself\u001b[39m, value):\n\u001b[0;32m---> 11\u001b[0m     \u001b[38;5;28;01mraise\u001b[39;00m \u001b[38;5;167;01mTypeError\u001b[39;00m(\u001b[38;5;124m\"\u001b[39m\u001b[38;5;124mPerson is immutable object\u001b[39m\u001b[38;5;124m\"\u001b[39m)\n\u001b[1;32m     12\u001b[0m     \u001b[38;5;28mprint\u001b[39m(\u001b[38;5;124m\"\u001b[39m\u001b[38;5;124mI am inside setName\u001b[39m\u001b[38;5;124m\"\u001b[39m)\n\u001b[1;32m     13\u001b[0m     \u001b[38;5;28mprint\u001b[39m(\u001b[38;5;124m\"\u001b[39m\u001b[38;5;124mtype(value):- \u001b[39m\u001b[38;5;124m\"\u001b[39m, \u001b[38;5;28mtype\u001b[39m(value))\n",
      "\u001b[0;31mTypeError\u001b[0m: Person is immutable object"
     ]
    }
   ],
   "source": [
    "class Person:\n",
    "    \n",
    "    def __init__(self, name):\n",
    "        self._name = name\n",
    "        \n",
    "    def getName(self):\n",
    "        print(\"I am inside getName\")\n",
    "        return (self._name)\n",
    "    \n",
    "    def setName(self, value):\n",
    "        raise TypeError(\"Person is immutable object\")\n",
    "        print(\"I am inside setName\")\n",
    "        print(\"type(value):- \", type(value))\n",
    "        self._name = value\n",
    "        \n",
    "    def delName(self):\n",
    "        raise TypeError(\"Person is immutable object\")\n",
    "    \n",
    "    managedX = property(getName, setName, delName)\n",
    "    \n",
    "def main():\n",
    "    \n",
    "    p = Person(\"Aditya\")\n",
    "    print(\"Person.__dict__:------\",Person.__dict__)\n",
    "    print(\"p.__dict__:------\",p.__dict__)\n",
    "    print(\"p.getName():-----\",p.getName())\n",
    "    print(\"p.managedX:-----\",p.managedX)\n",
    "    p.managedX = [10,20,30]\n",
    "    print(\"p.managedX:-----\",p.managedX)\n",
    "    \n",
    "main()"
   ]
  },
  {
   "cell_type": "code",
   "execution_count": 2,
   "id": "479e5ca2",
   "metadata": {},
   "outputs": [
    {
     "name": "stdout",
     "output_type": "stream",
     "text": [
      "Person.__dict__:------ {'__module__': '__main__', '__init__': <function Person.__init__ at 0x7f603c5b5550>, 'getName': <function Person.getName at 0x7f603c5b55e0>, 'setName': <function Person.setName at 0x7f603c5b5670>, 'delName': <function Person.delName at 0x7f603c5b5700>, 'managedX': <property object at 0x7f603c5cac20>, '__dict__': <attribute '__dict__' of 'Person' objects>, '__weakref__': <attribute '__weakref__' of 'Person' objects>, '__doc__': None}\n",
      "p.__dict__:------ {'_name': 'Aditya'}\n",
      "I am inside getName\n",
      "p.getName():----- Aditya\n",
      "I am inside getName\n",
      "p.managedX:----- Aditya\n",
      "I am inside getName\n",
      "p.managedX:----- Aditya\n"
     ]
    },
    {
     "ename": "TypeError",
     "evalue": "Person is immutable object",
     "output_type": "error",
     "traceback": [
      "\u001b[0;31m---------------------------------------------------------------------------\u001b[0m",
      "\u001b[0;31mTypeError\u001b[0m                                 Traceback (most recent call last)",
      "Input \u001b[0;32mIn [2]\u001b[0m, in \u001b[0;36m<cell line: 32>\u001b[0;34m()\u001b[0m\n\u001b[1;32m     29\u001b[0m     \u001b[38;5;28mprint\u001b[39m(\u001b[38;5;124m\"\u001b[39m\u001b[38;5;124mp.managedX:-----\u001b[39m\u001b[38;5;124m\"\u001b[39m,p\u001b[38;5;241m.\u001b[39mmanagedX)\n\u001b[1;32m     30\u001b[0m     \u001b[38;5;28;01mdel\u001b[39;00m(p\u001b[38;5;241m.\u001b[39mmanagedX)\n\u001b[0;32m---> 32\u001b[0m \u001b[43mmain\u001b[49m\u001b[43m(\u001b[49m\u001b[43m)\u001b[49m\n",
      "Input \u001b[0;32mIn [2]\u001b[0m, in \u001b[0;36mmain\u001b[0;34m()\u001b[0m\n\u001b[1;32m     28\u001b[0m \u001b[38;5;66;03m#p.managedX = [10,20,30]\u001b[39;00m\n\u001b[1;32m     29\u001b[0m \u001b[38;5;28mprint\u001b[39m(\u001b[38;5;124m\"\u001b[39m\u001b[38;5;124mp.managedX:-----\u001b[39m\u001b[38;5;124m\"\u001b[39m,p\u001b[38;5;241m.\u001b[39mmanagedX)\n\u001b[0;32m---> 30\u001b[0m \u001b[38;5;28;01mdel\u001b[39;00m(p\u001b[38;5;241m.\u001b[39mmanagedX)\n",
      "Input \u001b[0;32mIn [2]\u001b[0m, in \u001b[0;36mPerson.delName\u001b[0;34m(self)\u001b[0m\n\u001b[1;32m     16\u001b[0m \u001b[38;5;28;01mdef\u001b[39;00m \u001b[38;5;21mdelName\u001b[39m(\u001b[38;5;28mself\u001b[39m):\n\u001b[0;32m---> 17\u001b[0m     \u001b[38;5;28;01mraise\u001b[39;00m \u001b[38;5;167;01mTypeError\u001b[39;00m(\u001b[38;5;124m\"\u001b[39m\u001b[38;5;124mPerson is immutable object\u001b[39m\u001b[38;5;124m\"\u001b[39m)\n",
      "\u001b[0;31mTypeError\u001b[0m: Person is immutable object"
     ]
    }
   ],
   "source": [
    "class Person:\n",
    "    \n",
    "    def __init__(self, name):\n",
    "        self._name = name\n",
    "        \n",
    "    def getName(self):\n",
    "        print(\"I am inside getName\")\n",
    "        return (self._name)\n",
    "    \n",
    "    def setName(self, value):\n",
    "        raise TypeError(\"Person is immutable object\")\n",
    "        print(\"I am inside setName\")\n",
    "        print(\"type(value):- \", type(value))\n",
    "        self._name = value\n",
    "        \n",
    "    def delName(self):\n",
    "        raise TypeError(\"Person is immutable object\")\n",
    "    \n",
    "    managedX = property(getName, setName, delName)\n",
    "    \n",
    "def main():\n",
    "    \n",
    "    p = Person(\"Aditya\")\n",
    "    print(\"Person.__dict__:------\",Person.__dict__)\n",
    "    print(\"p.__dict__:------\",p.__dict__)\n",
    "    print(\"p.getName():-----\",p.getName())\n",
    "    print(\"p.managedX:-----\",p.managedX)\n",
    "    #p.managedX = [10,20,30]\n",
    "    print(\"p.managedX:-----\",p.managedX)\n",
    "    del(p.managedX)\n",
    "    \n",
    "main()"
   ]
  },
  {
   "cell_type": "code",
   "execution_count": 4,
   "id": "71e3af95",
   "metadata": {},
   "outputs": [
    {
     "name": "stdout",
     "output_type": "stream",
     "text": [
      "Person.__dict__:------ {'__module__': '__main__', '__init__': <function Person.__init__ at 0x7f602d2679d0>, 'getName': <function Person.getName at 0x7f602d2673a0>, 'setName': <function Person.setName at 0x7f602d267f70>, 'delName': <function Person.delName at 0x7f602d20b280>, 'managedX': <property object at 0x7f602d1ff4f0>, '__dict__': <attribute '__dict__' of 'Person' objects>, '__weakref__': <attribute '__weakref__' of 'Person' objects>, '__doc__': None}\n",
      "p.__dict__:------ {'_name': 'Aditya'}\n",
      "I am inside getName\n",
      "p.getName():----- Aditya\n",
      "I am inside getName\n",
      "p.managedX:----- Aditya\n",
      "I am inside setName\n",
      "type(value):-  <class 'list'>\n",
      "I am inside getName\n",
      "p.managedX:----- [10, 20, 30]\n"
     ]
    }
   ],
   "source": [
    "class Person:\n",
    "    \n",
    "    def __init__(self, name):\n",
    "        self._name = name\n",
    "        \n",
    "    def getName(self):\n",
    "        print(\"I am inside getName\")\n",
    "        return (self._name)\n",
    "    \n",
    "    def setName(self, value):\n",
    "        print(\"I am inside setName\")\n",
    "        print(\"type(value):- \", type(value))\n",
    "        self._name = value\n",
    "        \n",
    "    def delName(self):\n",
    "        del(self._name)\n",
    "    \n",
    "    managedX = property(getName, setName, delName)\n",
    "    \n",
    "def main():\n",
    "    \n",
    "    p = Person(\"Aditya\")\n",
    "    print(\"Person.__dict__:------\",Person.__dict__)\n",
    "    print(\"p.__dict__:------\",p.__dict__)\n",
    "    print(\"p.getName():-----\",p.getName())\n",
    "    print(\"p.managedX:-----\",p.managedX)\n",
    "    p.managedX = [10,20,30]\n",
    "    print(\"p.managedX:-----\",p.managedX)\n",
    "    del(p.managedX)\n",
    "    \n",
    "main()"
   ]
  },
  {
   "cell_type": "code",
   "execution_count": 5,
   "id": "25dbe34d",
   "metadata": {},
   "outputs": [
    {
     "name": "stdout",
     "output_type": "stream",
     "text": [
      "Person.__dict__:------ {'__module__': '__main__', '__init__': <function Person.__init__ at 0x7f602d20b040>, 'getName': <function Person.getName at 0x7f602d20b1f0>, 'setName': <function Person.setName at 0x7f602d20b3a0>, 'delName': <function Person.delName at 0x7f602d20b550>, 'managedX': <property object at 0x7f603c5ce630>, '__dict__': <attribute '__dict__' of 'Person' objects>, '__weakref__': <attribute '__weakref__' of 'Person' objects>, '__doc__': None}\n",
      "p.__dict__:------ {'_name': 'Aditya'}\n",
      "I am inside getName\n",
      "p.getName():----- Aditya\n",
      "I am inside getName\n",
      "p.managedX:----- Aditya\n",
      "I am inside setName\n",
      "type(value):-  <class 'list'>\n",
      "I am inside getName\n",
      "p.managedX:----- [10, 20, 30]\n",
      "I am inside getName\n"
     ]
    },
    {
     "ename": "AttributeError",
     "evalue": "'Person' object has no attribute '_name'",
     "output_type": "error",
     "traceback": [
      "\u001b[0;31m---------------------------------------------------------------------------\u001b[0m",
      "\u001b[0;31mAttributeError\u001b[0m                            Traceback (most recent call last)",
      "Input \u001b[0;32mIn [5]\u001b[0m, in \u001b[0;36m<cell line: 32>\u001b[0;34m()\u001b[0m\n\u001b[1;32m     29\u001b[0m     \u001b[38;5;28;01mdel\u001b[39;00m(p\u001b[38;5;241m.\u001b[39mmanagedX)\n\u001b[1;32m     30\u001b[0m     \u001b[38;5;28mprint\u001b[39m(p\u001b[38;5;241m.\u001b[39mmanagedX)\n\u001b[0;32m---> 32\u001b[0m \u001b[43mmain\u001b[49m\u001b[43m(\u001b[49m\u001b[43m)\u001b[49m\n",
      "Input \u001b[0;32mIn [5]\u001b[0m, in \u001b[0;36mmain\u001b[0;34m()\u001b[0m\n\u001b[1;32m     28\u001b[0m \u001b[38;5;28mprint\u001b[39m(\u001b[38;5;124m\"\u001b[39m\u001b[38;5;124mp.managedX:-----\u001b[39m\u001b[38;5;124m\"\u001b[39m,p\u001b[38;5;241m.\u001b[39mmanagedX)\n\u001b[1;32m     29\u001b[0m \u001b[38;5;28;01mdel\u001b[39;00m(p\u001b[38;5;241m.\u001b[39mmanagedX)\n\u001b[0;32m---> 30\u001b[0m \u001b[38;5;28mprint\u001b[39m(\u001b[43mp\u001b[49m\u001b[38;5;241;43m.\u001b[39;49m\u001b[43mmanagedX\u001b[49m)\n",
      "Input \u001b[0;32mIn [5]\u001b[0m, in \u001b[0;36mPerson.getName\u001b[0;34m(self)\u001b[0m\n\u001b[1;32m      6\u001b[0m \u001b[38;5;28;01mdef\u001b[39;00m \u001b[38;5;21mgetName\u001b[39m(\u001b[38;5;28mself\u001b[39m):\n\u001b[1;32m      7\u001b[0m     \u001b[38;5;28mprint\u001b[39m(\u001b[38;5;124m\"\u001b[39m\u001b[38;5;124mI am inside getName\u001b[39m\u001b[38;5;124m\"\u001b[39m)\n\u001b[0;32m----> 8\u001b[0m     \u001b[38;5;28;01mreturn\u001b[39;00m (\u001b[38;5;28;43mself\u001b[39;49m\u001b[38;5;241;43m.\u001b[39;49m\u001b[43m_name\u001b[49m)\n",
      "\u001b[0;31mAttributeError\u001b[0m: 'Person' object has no attribute '_name'"
     ]
    }
   ],
   "source": [
    "class Person:\n",
    "    \n",
    "    def __init__(self, name):\n",
    "        self._name = name\n",
    "        \n",
    "    def getName(self):\n",
    "        print(\"I am inside getName\")\n",
    "        return (self._name)\n",
    "    \n",
    "    def setName(self, value):\n",
    "        print(\"I am inside setName\")\n",
    "        print(\"type(value):- \", type(value))\n",
    "        self._name = value\n",
    "        \n",
    "    def delName(self):\n",
    "        del(self._name)\n",
    "    \n",
    "    managedX = property(getName, setName, delName)\n",
    "    \n",
    "def main():\n",
    "    \n",
    "    p = Person(\"Aditya\")\n",
    "    print(\"Person.__dict__:------\",Person.__dict__)\n",
    "    print(\"p.__dict__:------\",p.__dict__)\n",
    "    print(\"p.getName():-----\",p.getName())\n",
    "    print(\"p.managedX:-----\",p.managedX)\n",
    "    p.managedX = [10,20,30]\n",
    "    print(\"p.managedX:-----\",p.managedX)\n",
    "    del(p.managedX)\n",
    "    print(p.managedX)\n",
    "    \n",
    "main()"
   ]
  },
  {
   "cell_type": "code",
   "execution_count": 6,
   "id": "b9374742",
   "metadata": {},
   "outputs": [
    {
     "name": "stdout",
     "output_type": "stream",
     "text": [
      "Person.__dict__:------ {'__module__': '__main__', '__init__': <function Person.__init__ at 0x7f602d20b790>, 'getName': <function Person.getName at 0x7f602d23a670>, 'setName': <function Person.setName at 0x7f602d23a5e0>, 'delName': <function Person.delName at 0x7f602d23a1f0>, 'managedX': <property object at 0x7f602d201c20>, '__dict__': <attribute '__dict__' of 'Person' objects>, '__weakref__': <attribute '__weakref__' of 'Person' objects>, '__doc__': None}\n",
      "p.__dict__:------ {'_name': 'Aditya'}\n",
      "I am inside getName\n",
      "p.getName():----- Aditya\n",
      "I am inside getName\n",
      "p.managedX:----- Aditya\n",
      "I am inside setName\n",
      "type(value):-  <class 'list'>\n",
      "I am inside getName\n",
      "p.managedX:----- [10, 20, 30]\n",
      "I am inside setName\n",
      "type(value):-  <class 'tuple'>\n",
      "I am inside getName\n",
      "p.managedX:----- (-1, -2, -3)\n"
     ]
    }
   ],
   "source": [
    "class Person:\n",
    "    \n",
    "    def __init__(self, name):\n",
    "        self._name = name\n",
    "        \n",
    "    def getName(self):\n",
    "        print(\"I am inside getName\")\n",
    "        return (self._name)\n",
    "    \n",
    "    def setName(self, value):\n",
    "        print(\"I am inside setName\")\n",
    "        print(\"type(value):- \", type(value))\n",
    "        self._name = value\n",
    "        \n",
    "    def delName(self):\n",
    "        del(self._name)\n",
    "    \n",
    "    managedX = property(getName, setName, delName)\n",
    "    \n",
    "def main():\n",
    "    \n",
    "    p = Person(\"Aditya\")\n",
    "    print(\"Person.__dict__:------\",Person.__dict__)\n",
    "    print(\"p.__dict__:------\",p.__dict__)\n",
    "    print(\"p.getName():-----\",p.getName())\n",
    "    print(\"p.managedX:-----\",p.managedX)\n",
    "    p.managedX = [10,20,30]\n",
    "    print(\"p.managedX:-----\",p.managedX)\n",
    "    del(p.managedX)\n",
    "    p.managedX = (-1,-2,-3)\n",
    "    print(\"p.managedX:-----\",p.managedX)\n",
    "        \n",
    "main()"
   ]
  },
  {
   "cell_type": "code",
   "execution_count": 17,
   "id": "45ceea9f",
   "metadata": {},
   "outputs": [
    {
     "name": "stdout",
     "output_type": "stream",
     "text": [
      "Person.__dict__:------ {'__module__': '__main__', '__init__': <function Person.__init__ at 0x7f602d1391f0>, 'getName': <function Person.getName at 0x7f602d139c10>, 'setName': <function Person.setName at 0x7f602d0655e0>, 'delName': <function Person.delName at 0x7f602d065700>, 'getRoll': <function Person.getRoll at 0x7f602d065670>, 'setRoll': <function Person.setRoll at 0x7f602d065790>, 'delRoll': <function Person.delRoll at 0x7f602d065820>, 'managedX': <property object at 0x7f603c5d5130>, 'managedRoll': <property object at 0x7f603c570860>, '__dict__': <attribute '__dict__' of 'Person' objects>, '__weakref__': <attribute '__weakref__' of 'Person' objects>, '__doc__': None}\n",
      "p.__dict__:------ {'_name': 'Aditya', '_roll': 10}\n",
      "I am inside getName\n",
      "p.getName():----- Aditya\n",
      "I am inside getName\n",
      "p.managedX:----- Aditya\n",
      "I am inside setName\n",
      "type(value):-  <class 'list'>\n",
      "I am inside getName\n",
      "p.managedX:----- [10, 20, 30]\n",
      "I am inside setName\n",
      "type(value):-  <class 'tuple'>\n",
      "I am inside getName\n",
      "p.managedX:----- (-1, -2, -3)\n",
      "I am in inside set roll\n",
      "I am in inside get roll\n",
      "100000\n"
     ]
    }
   ],
   "source": [
    "class Person:\n",
    "    \n",
    "    def __init__(self, name, roll):\n",
    "        self._name = name\n",
    "        self._roll = roll\n",
    "        \n",
    "    def getName(self):\n",
    "        print(\"I am inside getName\")\n",
    "        return (self._name)\n",
    "    \n",
    "    def setName(self, value):\n",
    "        print(\"I am inside setName\")\n",
    "        print(\"type(value):- \", type(value))\n",
    "        self._name = value\n",
    "        \n",
    "    def delName(self):\n",
    "        del(self._name)\n",
    "        \n",
    "    def getRoll(self):\n",
    "        print(\"I am in inside get roll\")\n",
    "        return self._roll\n",
    "    \n",
    "    def setRoll(self, new_roll):\n",
    "        print(\"I am in inside set roll\")\n",
    "        self._roll = new_roll\n",
    "        \n",
    "    def delRoll(self):\n",
    "        print(\"I am in inside del roll\")\n",
    "        del(self._roll)\n",
    "        \n",
    "        \n",
    "    \n",
    "    managedX = property(getName, setName, delName)\n",
    "    managedRoll = property()\n",
    "    managedRoll = managedRoll.setter(setRoll)\n",
    "    managedRoll = managedRoll.deleter(delRoll)\n",
    "    managedRoll = managedRoll.getter(getRoll)\n",
    "    \n",
    "def main():\n",
    "    \n",
    "    p = Person(\"Aditya\",10)\n",
    "    print(\"Person.__dict__:------\",Person.__dict__)\n",
    "    print(\"p.__dict__:------\",p.__dict__)\n",
    "    print(\"p.getName():-----\",p.getName())\n",
    "    print(\"p.managedX:-----\",p.managedX)\n",
    "    p.managedX = [10,20,30]\n",
    "    print(\"p.managedX:-----\",p.managedX)\n",
    "    del(p.managedX)\n",
    "    p.managedX = (-1,-2,-3)\n",
    "    print(\"p.managedX:-----\",p.managedX)\n",
    "    p.managedRoll = 100000\n",
    "#     Person.managedRoll = Person.managedRoll.getter(Person.getRoll)\n",
    "    print(p.managedRoll)\n",
    "        \n",
    "main()"
   ]
  },
  {
   "cell_type": "code",
   "execution_count": 15,
   "id": "183c8086",
   "metadata": {},
   "outputs": [
    {
     "name": "stdout",
     "output_type": "stream",
     "text": [
      "Person.__dict__:------ {'__module__': '__main__', '__init__': <function Person.__init__ at 0x7f602d09e670>, 'getName': <function Person.getName at 0x7f602d09ef70>, 'setName': <function Person.setName at 0x7f602d09e550>, 'delName': <function Person.delName at 0x7f602d09e310>, 'getRoll': <function Person.getRoll at 0x7f602d09ed30>, 'setRoll': <function Person.setRoll at 0x7f602d23aa60>, 'delRoll': <function Person.delRoll at 0x7f602d23ad30>, 'managedX': <property object at 0x7f602d09c450>, 'managedRoll': <property object at 0x7f602d0b1ae0>, '__dict__': <attribute '__dict__' of 'Person' objects>, '__weakref__': <attribute '__weakref__' of 'Person' objects>, '__doc__': None}\n",
      "p.__dict__:------ {'_name': 'Aditya', '_roll': 10}\n",
      "I am inside getName\n",
      "p.getName():----- Aditya\n",
      "I am inside getName\n",
      "p.managedX:----- Aditya\n",
      "I am inside setName\n",
      "type(value):-  <class 'list'>\n",
      "I am inside getName\n",
      "p.managedX:----- [10, 20, 30]\n",
      "I am inside setName\n",
      "type(value):-  <class 'tuple'>\n",
      "I am inside getName\n",
      "p.managedX:----- (-1, -2, -3)\n",
      "I am in inside set roll\n",
      "I am in inside get roll\n",
      "100000\n"
     ]
    }
   ],
   "source": [
    "class Person:\n",
    "    \n",
    "    def __init__(self, name, roll):\n",
    "        self._name = name\n",
    "        self._roll = roll\n",
    "        \n",
    "    def getName(self):\n",
    "        print(\"I am inside getName\")\n",
    "        return (self._name)\n",
    "    \n",
    "    def setName(self, value):\n",
    "        print(\"I am inside setName\")\n",
    "        print(\"type(value):- \", type(value))\n",
    "        self._name = value\n",
    "        \n",
    "    def delName(self):\n",
    "        del(self._name)\n",
    "        \n",
    "    def getRoll(self):\n",
    "        print(\"I am in inside get roll\")\n",
    "        return self._roll\n",
    "    \n",
    "    def setRoll(self, new_roll):\n",
    "        print(\"I am in inside set roll\")\n",
    "        self._roll = new_roll\n",
    "        \n",
    "    def delRoll(self):\n",
    "        print(\"I am in inside del roll\")\n",
    "        del(self._roll)\n",
    "        \n",
    "        \n",
    "    \n",
    "    managedX = property(getName, setName, delName)\n",
    "    managedRoll = property(fset=setRoll)\n",
    "    managedRoll.setter(setRoll)\n",
    "    \n",
    "def main():\n",
    "    \n",
    "    p = Person(\"Aditya\",10)\n",
    "    print(\"Person.__dict__:------\",Person.__dict__)\n",
    "    print(\"p.__dict__:------\",p.__dict__)\n",
    "    print(\"p.getName():-----\",p.getName())\n",
    "    print(\"p.managedX:-----\",p.managedX)\n",
    "    p.managedX = [10,20,30]\n",
    "    print(\"p.managedX:-----\",p.managedX)\n",
    "    del(p.managedX)\n",
    "    p.managedX = (-1,-2,-3)\n",
    "    print(\"p.managedX:-----\",p.managedX)\n",
    "    p.managedRoll = 100000\n",
    "    Person.managedRoll = Person.managedRoll.getter(Person.getRoll)\n",
    "    print(p.managedRoll)\n",
    "        \n",
    "main()"
   ]
  },
  {
   "cell_type": "code",
   "execution_count": 31,
   "id": "6a142893",
   "metadata": {},
   "outputs": [
    {
     "name": "stdout",
     "output_type": "stream",
     "text": [
      "In getName\n",
      "main:p.name: Aditya\n",
      "In setName\n",
      "In getName\n",
      "main:p.name: FOO\n",
      "In delName\n"
     ]
    }
   ],
   "source": [
    "class Person:\n",
    "    pass\n",
    "\n",
    "def getName(self):\n",
    "    print(\"In getName\")\n",
    "    return self._name\n",
    "\n",
    "def setName(self, value):\n",
    "    print(\"In setName\")\n",
    "    self._name = value\n",
    "    \n",
    "def delName(self,):\n",
    "    print(\"In delName\")\n",
    "    del(self._name)\n",
    "    \n",
    "def __init__(self, name):\n",
    "    self._name = name\n",
    "    \n",
    "def main():\n",
    "    (Person.__init__, Person.getName, Person.setName, Person.delName, Person.name) = (__init__, getName, setName, delName, property())\n",
    "    Person.name = Person.name.getter(Person.getName)\n",
    "    Person.name = Person.name.setter(Person.setName)\n",
    "    Person.name = Person.name.deleter(Person.delName)\n",
    "    \n",
    "    p = Person(\"Aditya\")\n",
    "    print(\"main:p.name:\",p.name)\n",
    "    p.name = \"FOO\"\n",
    "    print(\"main:p.name:\",p.name)\n",
    "    del(p.name)\n",
    "    \n",
    "main()"
   ]
  },
  {
   "cell_type": "code",
   "execution_count": 30,
   "id": "cc0a4cec",
   "metadata": {},
   "outputs": [
    {
     "name": "stdout",
     "output_type": "stream",
     "text": [
      "In getName\n",
      "main:p.name: Aditya\n",
      "In setName\n",
      "In getName\n",
      "main:p.name: FOO\n",
      "In delName\n",
      "In getName\n"
     ]
    },
    {
     "ename": "AttributeError",
     "evalue": "'Person' object has no attribute '_name'",
     "output_type": "error",
     "traceback": [
      "\u001b[0;31m---------------------------------------------------------------------------\u001b[0m",
      "\u001b[0;31mAttributeError\u001b[0m                            Traceback (most recent call last)",
      "Input \u001b[0;32mIn [30]\u001b[0m, in \u001b[0;36m<cell line: 32>\u001b[0;34m()\u001b[0m\n\u001b[1;32m     29\u001b[0m     \u001b[38;5;28;01mdel\u001b[39;00m(p\u001b[38;5;241m.\u001b[39mname)\n\u001b[1;32m     30\u001b[0m     \u001b[38;5;28mprint\u001b[39m(\u001b[38;5;124m\"\u001b[39m\u001b[38;5;124mmain:p.name:\u001b[39m\u001b[38;5;124m\"\u001b[39m,p\u001b[38;5;241m.\u001b[39mname)\n\u001b[0;32m---> 32\u001b[0m \u001b[43mmain\u001b[49m\u001b[43m(\u001b[49m\u001b[43m)\u001b[49m\n",
      "Input \u001b[0;32mIn [30]\u001b[0m, in \u001b[0;36mmain\u001b[0;34m()\u001b[0m\n\u001b[1;32m     28\u001b[0m \u001b[38;5;28mprint\u001b[39m(\u001b[38;5;124m\"\u001b[39m\u001b[38;5;124mmain:p.name:\u001b[39m\u001b[38;5;124m\"\u001b[39m,p\u001b[38;5;241m.\u001b[39mname)\n\u001b[1;32m     29\u001b[0m \u001b[38;5;28;01mdel\u001b[39;00m(p\u001b[38;5;241m.\u001b[39mname)\n\u001b[0;32m---> 30\u001b[0m \u001b[38;5;28mprint\u001b[39m(\u001b[38;5;124m\"\u001b[39m\u001b[38;5;124mmain:p.name:\u001b[39m\u001b[38;5;124m\"\u001b[39m,\u001b[43mp\u001b[49m\u001b[38;5;241;43m.\u001b[39;49m\u001b[43mname\u001b[49m)\n",
      "Input \u001b[0;32mIn [30]\u001b[0m, in \u001b[0;36mgetName\u001b[0;34m(self)\u001b[0m\n\u001b[1;32m      4\u001b[0m \u001b[38;5;28;01mdef\u001b[39;00m \u001b[38;5;21mgetName\u001b[39m(\u001b[38;5;28mself\u001b[39m):\n\u001b[1;32m      5\u001b[0m     \u001b[38;5;28mprint\u001b[39m(\u001b[38;5;124m\"\u001b[39m\u001b[38;5;124mIn getName\u001b[39m\u001b[38;5;124m\"\u001b[39m)\n\u001b[0;32m----> 6\u001b[0m     \u001b[38;5;28;01mreturn\u001b[39;00m \u001b[38;5;28;43mself\u001b[39;49m\u001b[38;5;241;43m.\u001b[39;49m\u001b[43m_name\u001b[49m\n",
      "\u001b[0;31mAttributeError\u001b[0m: 'Person' object has no attribute '_name'"
     ]
    }
   ],
   "source": [
    "class Person:\n",
    "    pass\n",
    "\n",
    "def getName(self):\n",
    "    print(\"In getName\")\n",
    "    return self._name\n",
    "\n",
    "def setName(self, value):\n",
    "    print(\"In setName\")\n",
    "    self._name = value\n",
    "    \n",
    "def delName(self,):\n",
    "    print(\"In delName\")\n",
    "    del(self._name)\n",
    "    \n",
    "def __init__(self, name):\n",
    "    self._name = name\n",
    "    \n",
    "def main():\n",
    "    (Person.__init__, Person.getName, Person.setName, Person.delName, Person.name) = (__init__, getName, setName, delName, property())\n",
    "    Person.name = Person.name.getter(Person.getName)\n",
    "    Person.name = Person.name.setter(Person.setName)\n",
    "    Person.name = Person.name.deleter(Person.delName)\n",
    "    \n",
    "    p = Person(\"Aditya\")\n",
    "    print(\"main:p.name:\",p.name)\n",
    "    p.name = \"FOO\"\n",
    "    print(\"main:p.name:\",p.name)\n",
    "    del(p.name)\n",
    "    print(\"main:p.name:\",p.name)\n",
    "    \n",
    "main()"
   ]
  },
  {
   "cell_type": "code",
   "execution_count": null,
   "id": "788d0616",
   "metadata": {},
   "outputs": [],
   "source": []
  }
 ],
 "metadata": {
  "kernelspec": {
   "display_name": "Python 3 (ipykernel)",
   "language": "python",
   "name": "python3"
  },
  "language_info": {
   "codemirror_mode": {
    "name": "ipython",
    "version": 3
   },
   "file_extension": ".py",
   "mimetype": "text/x-python",
   "name": "python",
   "nbconvert_exporter": "python",
   "pygments_lexer": "ipython3",
   "version": "3.8.10"
  }
 },
 "nbformat": 4,
 "nbformat_minor": 5
}
