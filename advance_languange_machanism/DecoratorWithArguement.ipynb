{
 "cells": [
  {
   "cell_type": "markdown",
   "id": "c5370847",
   "metadata": {},
   "source": [
    "# Decorator With Arguement Demo 1"
   ]
  },
  {
   "cell_type": "code",
   "execution_count": null,
   "id": "ed129860",
   "metadata": {},
   "outputs": [],
   "source": [
    "# Pattern\n",
    "def decorator(A, B):\n",
    "    # Save or use A, B\n",
    "    def actualDecorator(F):\n",
    "        # Save or use function F\n",
    "        # Return a callable: nested def, class with __call__, etc.\n",
    "        def Wrapper(*arg):\n",
    "            # Use F + something!\n",
    "            return callable\n",
    "    return actualDecorator\n",
    "\n",
    "@decorator(actual_A, actual_B ) # F = decorator(actual_A, actual_B) (F)\n",
    "def F(*arg):\n",
    "    # Define F\n",
    "    \n",
    "F(*arg)\n",
    "is equivalent to\n",
    "decorator(actual_A, actual_B)  (F)  (*arg)"
   ]
  },
  {
   "cell_type": "markdown",
   "id": "25608861",
   "metadata": {},
   "source": [
    "# Decorator With Arguement Demo 2"
   ]
  },
  {
   "cell_type": "code",
   "execution_count": 2,
   "id": "d415f8f5",
   "metadata": {},
   "outputs": [
    {
     "name": "stdout",
     "output_type": "stream",
     "text": [
      "d_arg1: 100\n",
      "d_arg2: 200\n",
      "I am in actual_decorator\n",
      "arg to F: 100\n",
      "type arg to F: <class 'int'>\n"
     ]
    }
   ],
   "source": [
    "def decorator(d_arg1, d_arg2):\n",
    "    print(\"d_arg1:\",d_arg1)\n",
    "    print(\"d_arg2:\",d_arg2)\n",
    "    def actual_decorator(F):\n",
    "        print(\"I am in actual_decorator\")\n",
    "        def wrapper(arg):\n",
    "            print(\"arg to F:\", arg)\n",
    "            print(\"type arg to F:\", type(arg))\n",
    "        return wrapper\n",
    "    return actual_decorator\n",
    "\n",
    "@decorator(100, 200)\n",
    "def F(arg):\n",
    "    print(\"F:arg:\", arg)\n",
    "F(100)"
   ]
  },
  {
   "cell_type": "markdown",
   "id": "8672e9ae",
   "metadata": {},
   "source": [
    "## How logger will implement in this"
   ]
  },
  {
   "cell_type": "code",
   "execution_count": null,
   "id": "63d9fe16",
   "metadata": {},
   "outputs": [],
   "source": [
    "def logger(file_name):\n",
    "    # create file here\n",
    "    def actual_decorator(F):\n",
    "        # use function\n",
    "        def wrapper(arg):\n",
    "            print(\"arg to F:\", arg)\n",
    "            # do something\n",
    "        return wrapper\n",
    "    return actual_decorator\n",
    "\n",
    "@logger(abc.txt)\n",
    "@logger2(cde.txt) and so on\n",
    "def F(arg):\n",
    "    # some code and logic"
   ]
  },
  {
   "cell_type": "code",
   "execution_count": null,
   "id": "fbf9c49e",
   "metadata": {},
   "outputs": [],
   "source": []
  }
 ],
 "metadata": {
  "kernelspec": {
   "display_name": "Python 3 (ipykernel)",
   "language": "python",
   "name": "python3"
  },
  "language_info": {
   "codemirror_mode": {
    "name": "ipython",
    "version": 3
   },
   "file_extension": ".py",
   "mimetype": "text/x-python",
   "name": "python",
   "nbconvert_exporter": "python",
   "pygments_lexer": "ipython3",
   "version": "3.8.10"
  }
 },
 "nbformat": 4,
 "nbformat_minor": 5
}
