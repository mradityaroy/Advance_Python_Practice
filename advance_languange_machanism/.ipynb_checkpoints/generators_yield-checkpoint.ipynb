{
 "cells": [
  {
   "cell_type": "code",
   "execution_count": 2,
   "id": "6694b49a",
   "metadata": {},
   "outputs": [],
   "source": []
  },
  {
   "cell_type": "code",
   "execution_count": 4,
   "id": "9389d22b",
   "metadata": {},
   "outputs": [],
   "source": [
    "def gensquare(n):\n",
    "    for i in range(n):\n",
    "        return (i**2)\n",
    "    \n",
    "rs = gensquare(100)"
   ]
  },
  {
   "cell_type": "code",
   "execution_count": 5,
   "id": "6e2e806a",
   "metadata": {},
   "outputs": [
    {
     "name": "stdout",
     "output_type": "stream",
     "text": [
      "0\n"
     ]
    }
   ],
   "source": [
    "print(rs)"
   ]
  },
  {
   "cell_type": "code",
   "execution_count": 11,
   "id": "769334d1",
   "metadata": {},
   "outputs": [],
   "source": [
    "def gensquare_method2(n):\n",
    "    for i in range(n):\n",
    "        yield (i**2)\n",
    "    \n",
    "rs = gensquare_method2(10)"
   ]
  },
  {
   "cell_type": "code",
   "execution_count": 12,
   "id": "832e1070",
   "metadata": {},
   "outputs": [
    {
     "name": "stdout",
     "output_type": "stream",
     "text": [
      "<class 'generator'>\n"
     ]
    }
   ],
   "source": [
    "print(type(rs))"
   ]
  },
  {
   "cell_type": "code",
   "execution_count": 13,
   "id": "8458e636",
   "metadata": {},
   "outputs": [
    {
     "name": "stdout",
     "output_type": "stream",
     "text": [
      "0\n",
      "1\n",
      "4\n",
      "9\n",
      "16\n",
      "25\n",
      "36\n",
      "49\n",
      "64\n",
      "81\n"
     ]
    }
   ],
   "source": [
    "gen_iter = rs.__iter__()\n",
    "while True:\n",
    "    try:\n",
    "        element = gen_iter.__next__()\n",
    "    except StopIteration:\n",
    "        break\n",
    "    print(element)"
   ]
  },
  {
   "cell_type": "code",
   "execution_count": 15,
   "id": "041a11fd",
   "metadata": {},
   "outputs": [],
   "source": [
    "rs = gensquare_method2(10)"
   ]
  },
  {
   "cell_type": "code",
   "execution_count": 16,
   "id": "a78cac83",
   "metadata": {},
   "outputs": [
    {
     "name": "stdout",
     "output_type": "stream",
     "text": [
      "0\n",
      "1\n",
      "4\n",
      "9\n",
      "16\n",
      "25\n",
      "36\n",
      "49\n",
      "64\n",
      "81\n"
     ]
    }
   ],
   "source": [
    "for i in rs:\n",
    "    print(i)"
   ]
  },
  {
   "cell_type": "code",
   "execution_count": 18,
   "id": "bf8a89e0",
   "metadata": {},
   "outputs": [
    {
     "name": "stdout",
     "output_type": "stream",
     "text": [
      "(0, 10)\n",
      "(1, 20)\n",
      "(2, 30)\n",
      "(3, 40)\n"
     ]
    }
   ],
   "source": [
    "L = [10,20,30,40]\n",
    "for element in enumerate(L):\n",
    "    print(element)"
   ]
  },
  {
   "cell_type": "markdown",
   "id": "8f81a075",
   "metadata": {},
   "source": [
    "os.walk"
   ]
  },
  {
   "cell_type": "code",
   "execution_count": null,
   "id": "0c5a1fb9",
   "metadata": {},
   "outputs": [],
   "source": []
  },
  {
   "cell_type": "code",
   "execution_count": null,
   "id": "745c1f87",
   "metadata": {},
   "outputs": [],
   "source": []
  }
 ],
 "metadata": {
  "kernelspec": {
   "display_name": "Python 3 (ipykernel)",
   "language": "python",
   "name": "python3"
  },
  "language_info": {
   "codemirror_mode": {
    "name": "ipython",
    "version": 3
   },
   "file_extension": ".py",
   "mimetype": "text/x-python",
   "name": "python",
   "nbconvert_exporter": "python",
   "pygments_lexer": "ipython3",
   "version": "3.8.10"
  }
 },
 "nbformat": 4,
 "nbformat_minor": 5
}
