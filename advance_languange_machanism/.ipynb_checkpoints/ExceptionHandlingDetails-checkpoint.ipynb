{
 "cells": [
  {
   "cell_type": "markdown",
   "id": "d7e22414",
   "metadata": {},
   "source": [
    "# In Detail Exception Handling"
   ]
  },
  {
   "cell_type": "code",
   "execution_count": null,
   "id": "71875475",
   "metadata": {},
   "outputs": [],
   "source": [
    "# First format\n",
    "try:\n",
    "    st1\n",
    "    st2\n",
    "    st3\n",
    "except <Name>:\n",
    "    st1\n",
    "    st2\n",
    "    etc\n",
    "    \n",
    "# ---------------------\n",
    "# Second format\n",
    "\n",
    "try:\n",
    "    st1\n",
    "    st2\n",
    "    st3\n",
    "except <Name1>:\n",
    "    st1\n",
    "    st2\n",
    "    st3\n",
    "except <Name2>:\n",
    "    st1\n",
    "    st2\n",
    "    etc\n",
    "    \n",
    "# ----------------------\n",
    "# Third format\n",
    "try:\n",
    "    st1\n",
    "    st2\n",
    "    etc\n",
    "except <Name1>:\n",
    "    st1\n",
    "    st2\n",
    "    etc\n",
    "except <Name2> as V1:\n",
    "    st1\n",
    "    st2\n",
    "    etc\n",
    "except <Name1, Name2>:  # Name1 or Name2, come here\n",
    "    st1\n",
    "    st2\n",
    "    etc\n",
    "except <Name1, Name> as V2:  # Name1 or Name2\n",
    "    st1\n",
    "    st2\n",
    "    etc\n",
    "except:\n",
    "    st1\n",
    "    st2\n",
    "    st3\n",
    "\n",
    "# ----------------------------\n",
    "# Fourth format\n",
    "try:\n",
    "    st1\n",
    "    st2\n",
    "    etc\n",
    "except <Name1>:\n",
    "    st1\n",
    "    st2\n",
    "    etc\n",
    "except <Name2> as V1:\n",
    "    st1\n",
    "    st2\n",
    "    etc\n",
    "except <Name1, Name2> as V1:   # Name1 or Name2, come here\n",
    "    st1\n",
    "    st2\n",
    "    etc\n",
    "except <Name1, Name2> as V2:   # Name1 or Name2\n",
    "    st1\n",
    "    st2\n",
    "    etc\n",
    "except:\n",
    "    st1\n",
    "    st2\n",
    "    st3\n",
    "else:       # If no exception is raised in try block then come here\n",
    "    st1\n",
    "    st2\n",
    "    etc\n",
    "    \n",
    "# ------------------------\n",
    "# Fifth format\n",
    "try:\n",
    "    st1\n",
    "    st2\n",
    "    etc\n",
    "finally:  # Always run this code way out\n",
    "    st1\n",
    "    st2\n",
    "    etc\n",
    "    \n",
    "# --------------------------\n",
    "# Sixth format\n",
    "try:\n",
    "    st1\n",
    "    st2\n",
    "    etc\n",
    "except <Name1>:\n",
    "    st1\n",
    "    st2\n",
    "    etc\n",
    "except <Name1, Name2> as V1:  # Name1 or Name2, come here\n",
    "    st1\n",
    "    st2\n",
    "    etc\n",
    "except:\n",
    "    st1\n",
    "    st2\n",
    "    st3\n",
    "finally:  # Always come here, with or without exception\n",
    "    st1\n",
    "    st2\n",
    "    etc\n",
    "\n",
    "# ------------------------------\n",
    "# Seventh form : Most general, unified try/except/else/finally\n",
    "try:\n",
    "    st1\n",
    "    st2\n",
    "    st3\n",
    "    etc\n",
    "except <Name1>:\n",
    "    st1\n",
    "    st2\n",
    "    etc\n",
    "except <Name2> as V1:\n",
    "    st1\n",
    "    st2\n",
    "    etc\n",
    "except <Name1, Name2>:  #Name1 or Name2, come here\n",
    "    st1\n",
    "    st2\n",
    "    etc\n",
    "except <Name1, Name2> as V2:  # Name1 or Name2\n",
    "    st1\n",
    "    st2\n",
    "    etc\n",
    "except:\n",
    "    st1\n",
    "    st2\n",
    "    etc\n",
    "\n",
    "\n",
    "    \n",
    "    \n",
    "\n",
    "\n",
    "\n",
    "\n",
    "    "
   ]
  },
  {
   "cell_type": "code",
   "execution_count": 2,
   "id": "84f65956",
   "metadata": {},
   "outputs": [
    {
     "name": "stderr",
     "output_type": "stream",
     "text": [
      "<>:1: SyntaxWarning: 'int' object is not callable; perhaps you missed a comma?\n",
      "<>:1: SyntaxWarning: 'int' object is not callable; perhaps you missed a comma?\n",
      "/tmp/ipykernel_546652/1624544280.py:1: SyntaxWarning: 'int' object is not callable; perhaps you missed a comma?\n",
      "  10()\n",
      "/tmp/ipykernel_546652/1624544280.py:1: SyntaxWarning: 'int' object is not callable; perhaps you missed a comma?\n",
      "  10()\n",
      "/tmp/ipykernel_546652/1624544280.py:1: SyntaxWarning: 'int' object is not callable; perhaps you missed a comma?\n",
      "  10()\n"
     ]
    },
    {
     "ename": "TypeError",
     "evalue": "'int' object is not callable",
     "output_type": "error",
     "traceback": [
      "\u001b[0;31m---------------------------------------------------------------------------\u001b[0m",
      "\u001b[0;31mTypeError\u001b[0m                                 Traceback (most recent call last)",
      "Input \u001b[0;32mIn [2]\u001b[0m, in \u001b[0;36m<cell line: 1>\u001b[0;34m()\u001b[0m\n\u001b[0;32m----> 1\u001b[0m \u001b[38;5;241;43m10\u001b[39;49m\u001b[43m(\u001b[49m\u001b[43m)\u001b[49m\n",
      "\u001b[0;31mTypeError\u001b[0m: 'int' object is not callable"
     ]
    }
   ],
   "source": [
    "10()"
   ]
  },
  {
   "cell_type": "code",
   "execution_count": 4,
   "id": "5adf61da",
   "metadata": {},
   "outputs": [
    {
     "name": "stdout",
     "output_type": "stream",
     "text": [
      "wrong parameter\n",
      "type(v): <class 'ValueError'>\n"
     ]
    },
    {
     "name": "stderr",
     "output_type": "stream",
     "text": [
      "<>:3: SyntaxWarning: 'int' object is not callable; perhaps you missed a comma?\n",
      "<>:3: SyntaxWarning: 'int' object is not callable; perhaps you missed a comma?\n",
      "/tmp/ipykernel_546652/3517938974.py:3: SyntaxWarning: 'int' object is not callable; perhaps you missed a comma?\n",
      "  10()\n"
     ]
    }
   ],
   "source": [
    "def f(n):\n",
    "    if n == 1:\n",
    "        10()\n",
    "    elif n == 2:\n",
    "        [10, 20, 30][30]\n",
    "    else:\n",
    "        raise ValueError(\"foo\")\n",
    "    \n",
    "try:\n",
    "    f(4)\n",
    "except (TypeError, IndexError):\n",
    "    print(\"okay\")\n",
    "except ValueError as V:\n",
    "    print(\"wrong parameter\")\n",
    "    print(\"type(v):\", type(V))"
   ]
  },
  {
   "cell_type": "code",
   "execution_count": 5,
   "id": "e1bbfb69",
   "metadata": {},
   "outputs": [
    {
     "name": "stdout",
     "output_type": "stream",
     "text": [
      "wrong parameter\n",
      "type(v): <class 'ValueError'>\n"
     ]
    },
    {
     "name": "stderr",
     "output_type": "stream",
     "text": [
      "<>:3: SyntaxWarning: 'int' object is not callable; perhaps you missed a comma?\n",
      "<>:3: SyntaxWarning: 'int' object is not callable; perhaps you missed a comma?\n",
      "/tmp/ipykernel_546652/3799653015.py:3: SyntaxWarning: 'int' object is not callable; perhaps you missed a comma?\n",
      "  10()\n"
     ]
    },
    {
     "ename": "RuntimeError",
     "evalue": "No active exception to reraise",
     "output_type": "error",
     "traceback": [
      "\u001b[0;31m---------------------------------------------------------------------------\u001b[0m",
      "\u001b[0;31mRuntimeError\u001b[0m                              Traceback (most recent call last)",
      "Input \u001b[0;32mIn [5]\u001b[0m, in \u001b[0;36m<cell line: 17>\u001b[0;34m()\u001b[0m\n\u001b[1;32m     14\u001b[0m     \u001b[38;5;28mprint\u001b[39m(\u001b[38;5;124m\"\u001b[39m\u001b[38;5;124mwrong parameter\u001b[39m\u001b[38;5;124m\"\u001b[39m)\n\u001b[1;32m     15\u001b[0m     \u001b[38;5;28mprint\u001b[39m(\u001b[38;5;124m\"\u001b[39m\u001b[38;5;124mtype(v):\u001b[39m\u001b[38;5;124m\"\u001b[39m, \u001b[38;5;28mtype\u001b[39m(V))\n\u001b[0;32m---> 17\u001b[0m \u001b[38;5;28;01mraise\u001b[39;00m\n\u001b[1;32m     18\u001b[0m \u001b[38;5;28;01mraise\u001b[39;00m \u001b[38;5;167;01mTypeError\u001b[39;00m\n\u001b[1;32m     19\u001b[0m \u001b[38;5;28;01mraise\u001b[39;00m \u001b[38;5;167;01mTypeError\u001b[39;00m(\u001b[38;5;124m\"\u001b[39m\u001b[38;5;124mHello\u001b[39m\u001b[38;5;124m\"\u001b[39m)\n",
      "\u001b[0;31mRuntimeError\u001b[0m: No active exception to reraise"
     ]
    }
   ],
   "source": [
    "def f(n):\n",
    "    if n == 1:\n",
    "        10()\n",
    "    elif n == 2:\n",
    "        [10, 20, 30][30]\n",
    "    else:\n",
    "        raise ValueError(\"foo\")\n",
    "    \n",
    "try:\n",
    "    f(4)\n",
    "except (TypeError, IndexError):\n",
    "    print(\"okay\")\n",
    "except ValueError as V:\n",
    "    print(\"wrong parameter\")\n",
    "    print(\"type(v):\", type(V))\n",
    "    \n",
    "raise\n",
    "raise TypeError\n",
    "raise TypeError(\"Hello\")"
   ]
  },
  {
   "cell_type": "markdown",
   "id": "fa1fb7bc",
   "metadata": {},
   "source": [
    "# exception else"
   ]
  },
  {
   "cell_type": "code",
   "execution_count": 6,
   "id": "06137d34",
   "metadata": {},
   "outputs": [
    {
     "name": "stdout",
     "output_type": "stream",
     "text": [
      "In index Error\n",
      "I will always be executed\n"
     ]
    }
   ],
   "source": [
    "try:\n",
    "    [10, 20, 30][40]\n",
    "except IndexError:\n",
    "    print(\"In index Error\")\n",
    "else:\n",
    "    print(\"Index error did not occur\")\n",
    "finally:\n",
    "    print(\"I will always be executed\")"
   ]
  },
  {
   "cell_type": "code",
   "execution_count": 7,
   "id": "25af1e42",
   "metadata": {},
   "outputs": [
    {
     "name": "stdout",
     "output_type": "stream",
     "text": [
      "Index error did not occur\n",
      "I will always be executed\n"
     ]
    }
   ],
   "source": [
    "try:\n",
    "    [10, 20, 30][0]\n",
    "except IndexError:\n",
    "    print(\"In index Error\")\n",
    "else:\n",
    "    print(\"Index error did not occur\")\n",
    "finally:\n",
    "    print(\"I will always be executed\")"
   ]
  },
  {
   "cell_type": "code",
   "execution_count": null,
   "id": "88523aba",
   "metadata": {},
   "outputs": [],
   "source": []
  }
 ],
 "metadata": {
  "kernelspec": {
   "display_name": "Python 3 (ipykernel)",
   "language": "python",
   "name": "python3"
  },
  "language_info": {
   "codemirror_mode": {
    "name": "ipython",
    "version": 3
   },
   "file_extension": ".py",
   "mimetype": "text/x-python",
   "name": "python",
   "nbconvert_exporter": "python",
   "pygments_lexer": "ipython3",
   "version": "3.8.10"
  }
 },
 "nbformat": 4,
 "nbformat_minor": 5
}
