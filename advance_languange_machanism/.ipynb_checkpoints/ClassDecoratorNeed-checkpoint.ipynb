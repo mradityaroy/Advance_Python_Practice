{
 "cells": [
  {
   "cell_type": "markdown",
   "id": "86465c8f",
   "metadata": {},
   "source": [
    "# ClassDecoratorNeed 1"
   ]
  },
  {
   "cell_type": "code",
   "execution_count": 1,
   "id": "8273e64e",
   "metadata": {},
   "outputs": [
    {
     "name": "stdout",
     "output_type": "stream",
     "text": [
      "type(inC):  <class '__main__.C'>\n",
      "I am in __call__\n"
     ]
    },
    {
     "ename": "TypeError",
     "evalue": "getn() missing 1 required positional argument: 'self'",
     "output_type": "error",
     "traceback": [
      "\u001b[0;31m---------------------------------------------------------------------------\u001b[0m",
      "\u001b[0;31mTypeError\u001b[0m                                 Traceback (most recent call last)",
      "Input \u001b[0;32mIn [1]\u001b[0m, in \u001b[0;36m<cell line: 24>\u001b[0;34m()\u001b[0m\n\u001b[1;32m     22\u001b[0m     inC\u001b[38;5;241m.\u001b[39mgetn()\n\u001b[1;32m     23\u001b[0m     sys\u001b[38;5;241m.\u001b[39mexit\n\u001b[0;32m---> 24\u001b[0m \u001b[43mmain\u001b[49m\u001b[43m(\u001b[49m\u001b[43m)\u001b[49m\n",
      "Input \u001b[0;32mIn [1]\u001b[0m, in \u001b[0;36mmain\u001b[0;34m()\u001b[0m\n\u001b[1;32m     20\u001b[0m inC \u001b[38;5;241m=\u001b[39m C(\u001b[38;5;241m100\u001b[39m)\n\u001b[1;32m     21\u001b[0m \u001b[38;5;28mprint\u001b[39m(\u001b[38;5;124m\"\u001b[39m\u001b[38;5;124mtype(inC): \u001b[39m\u001b[38;5;124m\"\u001b[39m, \u001b[38;5;28mtype\u001b[39m(inC))\n\u001b[0;32m---> 22\u001b[0m \u001b[43minC\u001b[49m\u001b[38;5;241;43m.\u001b[39;49m\u001b[43mgetn\u001b[49m\u001b[43m(\u001b[49m\u001b[43m)\u001b[49m\n\u001b[1;32m     23\u001b[0m sys\u001b[38;5;241m.\u001b[39mexit\n",
      "Input \u001b[0;32mIn [1]\u001b[0m, in \u001b[0;36mDecorator.__call__\u001b[0;34m(self, *args)\u001b[0m\n\u001b[1;32m      8\u001b[0m \u001b[38;5;28;01mfor\u001b[39;00m i \u001b[38;5;129;01min\u001b[39;00m \u001b[38;5;28mrange\u001b[39m(\u001b[38;5;28mlen\u001b[39m(args)):\n\u001b[1;32m      9\u001b[0m     \u001b[38;5;28mprint\u001b[39m(\u001b[38;5;124m\"\u001b[39m\u001b[38;5;124margs[\u001b[39m\u001b[38;5;124m\"\u001b[39m, i, \u001b[38;5;124m\"\u001b[39m\u001b[38;5;124m]: \u001b[39m\u001b[38;5;124m\"\u001b[39m, args[i], \u001b[38;5;124m\"\u001b[39m\u001b[38;5;124mtype(args[\u001b[39m\u001b[38;5;124m\"\u001b[39m, i, \u001b[38;5;124m\"\u001b[39m\u001b[38;5;124m])\u001b[39m\u001b[38;5;124m\"\u001b[39m, \u001b[38;5;28mtype\u001b[39m(args[i]))\n\u001b[0;32m---> 10\u001b[0m \u001b[38;5;28;43mself\u001b[39;49m\u001b[38;5;241;43m.\u001b[39;49m\u001b[43mfunc\u001b[49m\u001b[43m(\u001b[49m\u001b[38;5;241;43m*\u001b[39;49m\u001b[43margs\u001b[49m\u001b[43m)\u001b[49m\n",
      "\u001b[0;31mTypeError\u001b[0m: getn() missing 1 required positional argument: 'self'"
     ]
    }
   ],
   "source": [
    "import sys\n",
    "\n",
    "class Decorator:\n",
    "    def __init__(self, func):\n",
    "        self.func = func\n",
    "    def __call__(self, *args):\n",
    "        print(\"I am in __call__\")\n",
    "        for i in range(len(args)):\n",
    "            print(\"args[\", i, \"]: \", args[i], \"type(args[\", i, \"])\", type(args[i]))\n",
    "        self.func(*args)\n",
    "        \n",
    "class C:\n",
    "    def __init__(self, n):\n",
    "        self._n = n\n",
    "    @Decorator\n",
    "    def getn(self):\n",
    "        print(\"getn: self._n\", self._n)\n",
    "        \n",
    "def main():\n",
    "    inC = C(100)\n",
    "    print(\"type(inC): \", type(inC))\n",
    "    inC.getn()\n",
    "    sys.exit\n",
    "main()"
   ]
  },
  {
   "cell_type": "markdown",
   "id": "8093a747",
   "metadata": {},
   "source": [
    "# you cannot do this way"
   ]
  },
  {
   "cell_type": "code",
   "execution_count": 23,
   "id": "d094842f",
   "metadata": {},
   "outputs": [
    {
     "name": "stdout",
     "output_type": "stream",
     "text": [
      "type(inC):  <class '__main__.C'>\n",
      "I am in __call__\n",
      "args[ 0 ]:  <__main__.C object at 0x7fcaad320130> type(args[ 0 ]) <class '__main__.C'>\n",
      "getn: self._n 100\n"
     ]
    }
   ],
   "source": [
    "import sys\n",
    "\n",
    "class Decorator:\n",
    "    def __init__(self, func):\n",
    "        self.func = func\n",
    "\n",
    "    def __call__(self, *args):\n",
    "        print(\"I am in __call__\")\n",
    "        for i in range(len(args)):\n",
    "            print(\"args[\", i, \"]: \", args[i], \"type(args[\", i, \"])\", type(args[i]))\n",
    "        self.func(*args)\n",
    "        \n",
    "class C:\n",
    "    def __init__(self, n):\n",
    "        self._n = n\n",
    "\n",
    "    @Decorator\n",
    "    def getn(self):\n",
    "        print(\"getn: self._n\", self._n)\n",
    "        \n",
    "def main():\n",
    "    inC = C(100)\n",
    "    print(\"type(inC): \", type(inC))\n",
    "    inC.getn(inC)   # client does not pass any arguement or modify so this is wrong\n",
    "    sys.exit\n",
    "main()"
   ]
  },
  {
   "cell_type": "code",
   "execution_count": null,
   "id": "36d73005",
   "metadata": {},
   "outputs": [],
   "source": []
  }
 ],
 "metadata": {
  "kernelspec": {
   "display_name": "Python 3 (ipykernel)",
   "language": "python",
   "name": "python3"
  },
  "language_info": {
   "codemirror_mode": {
    "name": "ipython",
    "version": 3
   },
   "file_extension": ".py",
   "mimetype": "text/x-python",
   "name": "python",
   "nbconvert_exporter": "python",
   "pygments_lexer": "ipython3",
   "version": "3.8.10"
  }
 },
 "nbformat": 4,
 "nbformat_minor": 5
}
