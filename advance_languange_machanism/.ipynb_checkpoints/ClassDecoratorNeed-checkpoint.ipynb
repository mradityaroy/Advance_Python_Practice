{
 "cells": [
  {
   "cell_type": "markdown",
   "id": "7be9b15c",
   "metadata": {},
   "source": [
    "# ClassDecoratorNeed 1"
   ]
  },
  {
   "cell_type": "code",
   "execution_count": 10,
   "id": "cac15944",
   "metadata": {},
   "outputs": [
    {
     "name": "stdout",
     "output_type": "stream",
     "text": [
      "I am in __call__\n",
      "args[ 0 ]:  10 type(args[ 0 ]) <class 'int'>\n",
      "args[ 1 ]:  20 type(args[ 1 ]) <class 'int'>\n",
      "args[ 2 ]:  30 type(args[ 2 ]) <class 'int'>\n",
      "a= 10 , b= 20 , c= 30\n"
     ]
    }
   ],
   "source": [
    "import sys\n",
    "\n",
    "class Decorator:\n",
    "    def __init__(self, func):\n",
    "        self.func = func\n",
    "    def __call__(self, *args):\n",
    "        print(\"I am in __call__\")\n",
    "        for i in range(len(args)):\n",
    "            print(\"args[\", i, \"]: \", args[i], \"type(args[\", i, \"])\", type(args[i]))\n",
    "        self.func(*args)\n",
    "\n",
    "@Decorator\n",
    "def f(a, b, c):\n",
    "    print(\"a=\", a,\",\", \"b=\", b,\",\", \"c=\", c)\n",
    "    \n",
    "def main():\n",
    "    f(10, 20, 30)\n",
    "    sys.exit\n",
    "main()"
   ]
  },
  {
   "cell_type": "markdown",
   "id": "bde26781",
   "metadata": {},
   "source": [
    "# ClassDecoratorNeed 2"
   ]
  },
  {
   "cell_type": "code",
   "execution_count": 1,
   "id": "567f1a16",
   "metadata": {},
   "outputs": [
    {
     "name": "stdout",
     "output_type": "stream",
     "text": [
      "type(inC):  <class '__main__.C'>\n",
      "I am in __call__\n"
     ]
    },
    {
     "ename": "TypeError",
     "evalue": "getn() missing 1 required positional argument: 'self'",
     "output_type": "error",
     "traceback": [
      "\u001b[0;31m---------------------------------------------------------------------------\u001b[0m",
      "\u001b[0;31mTypeError\u001b[0m                                 Traceback (most recent call last)",
      "Input \u001b[0;32mIn [1]\u001b[0m, in \u001b[0;36m<cell line: 24>\u001b[0;34m()\u001b[0m\n\u001b[1;32m     22\u001b[0m     inC\u001b[38;5;241m.\u001b[39mgetn()\n\u001b[1;32m     23\u001b[0m     sys\u001b[38;5;241m.\u001b[39mexit\n\u001b[0;32m---> 24\u001b[0m \u001b[43mmain\u001b[49m\u001b[43m(\u001b[49m\u001b[43m)\u001b[49m\n",
      "Input \u001b[0;32mIn [1]\u001b[0m, in \u001b[0;36mmain\u001b[0;34m()\u001b[0m\n\u001b[1;32m     20\u001b[0m inC \u001b[38;5;241m=\u001b[39m C(\u001b[38;5;241m100\u001b[39m)\n\u001b[1;32m     21\u001b[0m \u001b[38;5;28mprint\u001b[39m(\u001b[38;5;124m\"\u001b[39m\u001b[38;5;124mtype(inC): \u001b[39m\u001b[38;5;124m\"\u001b[39m, \u001b[38;5;28mtype\u001b[39m(inC))\n\u001b[0;32m---> 22\u001b[0m \u001b[43minC\u001b[49m\u001b[38;5;241;43m.\u001b[39;49m\u001b[43mgetn\u001b[49m\u001b[43m(\u001b[49m\u001b[43m)\u001b[49m\n\u001b[1;32m     23\u001b[0m sys\u001b[38;5;241m.\u001b[39mexit\n",
      "Input \u001b[0;32mIn [1]\u001b[0m, in \u001b[0;36mDecorator.__call__\u001b[0;34m(self, *args)\u001b[0m\n\u001b[1;32m      8\u001b[0m \u001b[38;5;28;01mfor\u001b[39;00m i \u001b[38;5;129;01min\u001b[39;00m \u001b[38;5;28mrange\u001b[39m(\u001b[38;5;28mlen\u001b[39m(args)):\n\u001b[1;32m      9\u001b[0m     \u001b[38;5;28mprint\u001b[39m(\u001b[38;5;124m\"\u001b[39m\u001b[38;5;124margs[\u001b[39m\u001b[38;5;124m\"\u001b[39m, i, \u001b[38;5;124m\"\u001b[39m\u001b[38;5;124m]: \u001b[39m\u001b[38;5;124m\"\u001b[39m, args[i], \u001b[38;5;124m\"\u001b[39m\u001b[38;5;124mtype(args[\u001b[39m\u001b[38;5;124m\"\u001b[39m, i, \u001b[38;5;124m\"\u001b[39m\u001b[38;5;124m])\u001b[39m\u001b[38;5;124m\"\u001b[39m, \u001b[38;5;28mtype\u001b[39m(args[i]))\n\u001b[0;32m---> 10\u001b[0m \u001b[38;5;28;43mself\u001b[39;49m\u001b[38;5;241;43m.\u001b[39;49m\u001b[43mfunc\u001b[49m\u001b[43m(\u001b[49m\u001b[38;5;241;43m*\u001b[39;49m\u001b[43margs\u001b[49m\u001b[43m)\u001b[49m\n",
      "\u001b[0;31mTypeError\u001b[0m: getn() missing 1 required positional argument: 'self'"
     ]
    }
   ],
   "source": [
    "import sys\n",
    "\n",
    "class Decorator:\n",
    "    def __init__(self, func):\n",
    "        self.func = func\n",
    "    def __call__(self, *args):\n",
    "        print(\"I am in __call__\")\n",
    "        for i in range(len(args)):\n",
    "            print(\"args[\", i, \"]: \", args[i], \"type(args[\", i, \"])\", type(args[i]))\n",
    "        self.func(*args)\n",
    "        \n",
    "class C:\n",
    "    def __init__(self, n):\n",
    "        self._n = n\n",
    "    @Decorator\n",
    "    def getn(self):\n",
    "        print(\"getn: self._n\", self._n)\n",
    "        \n",
    "def main():\n",
    "    inC = C(100)\n",
    "    print(\"type(inC): \", type(inC))\n",
    "    inC.getn()\n",
    "    sys.exit\n",
    "main()"
   ]
  },
  {
   "cell_type": "markdown",
   "id": "3596208f",
   "metadata": {},
   "source": [
    "# you cannot do this way"
   ]
  },
  {
   "cell_type": "code",
   "execution_count": 24,
   "id": "38b11e81",
   "metadata": {},
   "outputs": [
    {
     "name": "stdout",
     "output_type": "stream",
     "text": [
      "type(inC):  <class '__main__.C'>\n",
      "I am in __call__\n",
      "args[ 0 ]:  <__main__.C object at 0x7fcaad1285e0> type(args[ 0 ]) <class '__main__.C'>\n",
      "getn: self._n 100\n"
     ]
    }
   ],
   "source": [
    "import sys\n",
    "\n",
    "class Decorator:\n",
    "    def __init__(self, func):\n",
    "        self.func = func\n",
    "\n",
    "    def __call__(self, *args):\n",
    "        print(\"I am in __call__\")\n",
    "        for i in range(len(args)):\n",
    "            print(\"args[\", i, \"]: \", args[i], \"type(args[\", i, \"])\", type(args[i]))\n",
    "        self.func(*args)\n",
    "        \n",
    "class C:\n",
    "    def __init__(self, n):\n",
    "        self._n = n\n",
    "\n",
    "    @Decorator\n",
    "    def getn(self):\n",
    "        print(\"getn: self._n\", self._n)\n",
    "        \n",
    "def main():\n",
    "    inC = C(100)\n",
    "    print(\"type(inC): \", type(inC))\n",
    "    inC.getn(inC)   # client does not pass any arguement or modify so this is wrong\n",
    "    sys.exit\n",
    "main()"
   ]
  },
  {
   "cell_type": "code",
   "execution_count": 3,
   "id": "dda8bdf6",
   "metadata": {},
   "outputs": [
    {
     "name": "stdout",
     "output_type": "stream",
     "text": [
      "type(inC):  <class '__main__.C'>\n",
      "type(inC.getn):  <class '__main__.Decorator'>\n",
      "type(C.getn):  <class '__main__.Decorator'>\n",
      "I am in __call__\n",
      "__call__: type(self):  <class '__main__.Decorator'>\n",
      "__call__: len(args):  0\n"
     ]
    }
   ],
   "source": [
    "import sys\n",
    "\n",
    "class Decorator:\n",
    "    def __init__(self, func):\n",
    "        self.func = func\n",
    "    def __call__(self, *args):\n",
    "        print(\"I am in __call__\")\n",
    "        print(\"__call__: type(self): \", type(self))\n",
    "        print(\"__call__: len(args): \", len(args))\n",
    "        for i in range(len(args)):\n",
    "            print(\"args[\", i, \"]: \", args[i], \"type(args[\", i, \"])\", type(args[i]))\n",
    "#         self.func(*args)\n",
    "        \n",
    "class C:\n",
    "    def __init__(self, n):\n",
    "        self._n = n\n",
    "    @Decorator\n",
    "    def getn(self):\n",
    "        print(\"getn: self._n\", self._n)\n",
    "        \n",
    "def main():\n",
    "    inC = C(100)\n",
    "    print(\"type(inC): \", type(inC))\n",
    "    print(\"type(inC.getn): \", type(inC.getn))\n",
    "    print(\"type(C.getn): \", type(C.getn))\n",
    "    inC.getn()\n",
    "    sys.exit\n",
    "main()"
   ]
  },
  {
   "cell_type": "code",
   "execution_count": 4,
   "id": "8e9406e3",
   "metadata": {},
   "outputs": [
    {
     "name": "stdout",
     "output_type": "stream",
     "text": [
      "type(C.getn):  <class '__main__.Decorator'>\n",
      "I am in __call__\n",
      "__call__: type(self):  <class '__main__.Decorator'>\n",
      "__call__: len(args):  2\n",
      "args[ 0 ]:  10 type(args[ 0 ]) <class 'int'>\n",
      "args[ 1 ]:  20 type(args[ 1 ]) <class 'int'>\n"
     ]
    }
   ],
   "source": [
    "import sys\n",
    "\n",
    "class Decorator:\n",
    "    def __init__(self, func):\n",
    "        self.func = func\n",
    "    def __call__(self, *args):\n",
    "        print(\"I am in __call__\")\n",
    "        print(\"__call__: type(self): \", type(self))\n",
    "        print(\"__call__: len(args): \", len(args))\n",
    "        for i in range(len(args)):\n",
    "            print(\"args[\", i, \"]: \", args[i], \"type(args[\", i, \"])\", type(args[i]))\n",
    "#         self.func(*args)\n",
    "        \n",
    "class C:\n",
    "    def __init__(self, n):\n",
    "        self._n = n\n",
    "    @Decorator\n",
    "    def getn(self):\n",
    "        print(\"getn: self._n\", self._n)\n",
    "        \n",
    "def main():\n",
    "#     inC = C(100)\n",
    "#     print(\"type(inC): \", type(inC))\n",
    "#     print(\"type(inC.getn): \", type(inC.getn))\n",
    "    print(\"type(C.getn): \", type(C.getn))\n",
    "    C.getn(10, 20)\n",
    "    sys.exit\n",
    "main()"
   ]
  },
  {
   "cell_type": "code",
   "execution_count": 6,
   "id": "cf5d673d",
   "metadata": {},
   "outputs": [
    {
     "name": "stdout",
     "output_type": "stream",
     "text": [
      "type(inC):  <class '__main__.C'>\n",
      "type(inC.getn):  <class '__main__.Decorator'>\n",
      "type(C.getn):  <class '__main__.Decorator'>\n",
      "I am in __call__\n",
      "__call__: type(self):  <class '__main__.Decorator'>\n",
      "__call__: len(args):  3\n",
      "args[ 0 ]:  <__main__.C object at 0x7fc3b4049eb0> type(args[ 0 ]) <class '__main__.C'>\n",
      "args[ 1 ]:  10 type(args[ 1 ]) <class 'int'>\n",
      "args[ 2 ]:  20 type(args[ 2 ]) <class 'int'>\n"
     ]
    }
   ],
   "source": [
    "import sys\n",
    "\n",
    "class Decorator:\n",
    "    def __init__(self, func):\n",
    "        self.func = func\n",
    "    def __call__(self, *args):\n",
    "        print(\"I am in __call__\")\n",
    "        print(\"__call__: type(self): \", type(self))\n",
    "        print(\"__call__: len(args): \", len(args))\n",
    "        for i in range(len(args)):\n",
    "            print(\"args[\", i, \"]: \", args[i], \"type(args[\", i, \"])\", type(args[i]))\n",
    "#         self.func(*args)\n",
    "        \n",
    "class C:\n",
    "    def __init__(self, n):\n",
    "        self._n = n\n",
    "    @Decorator\n",
    "    def getn(self):\n",
    "        print(\"getn: self._n\", self._n)\n",
    "        \n",
    "def main():\n",
    "    inC = C(100)\n",
    "    print(\"type(inC): \", type(inC))\n",
    "    print(\"type(inC.getn): \", type(inC.getn))\n",
    "    print(\"type(C.getn): \", type(C.getn))\n",
    "    C.getn(inC, 10, 20)\n",
    "    sys.exit\n",
    "main()"
   ]
  },
  {
   "cell_type": "markdown",
   "id": "d0549df0",
   "metadata": {},
   "source": [
    "# Now class decorators comes in picture"
   ]
  },
  {
   "cell_type": "markdown",
   "id": "45e2afaa",
   "metadata": {},
   "source": [
    "# classDecoratorNeed 3"
   ]
  },
  {
   "cell_type": "code",
   "execution_count": null,
   "id": "501584f3",
   "metadata": {},
   "outputs": [],
   "source": [
    "def deorator(F):         # F is func or method without instance\n",
    "    def wrapper(*args):  # class instance in args[0] for method\n",
    "                         # F(*args) runs func or method\n",
    "            \n",
    "    return wrapper\n",
    "\n",
    "@deorator\n",
    "def func(x, y):          # func = decorator(func)\n",
    "\n",
    "...\n",
    "# End of func definition\n",
    "func(6, 7)               # Really calls wrapper(6,7)\n",
    "\n",
    "class C:                 # method = decorator(method)\n",
    "@deorator                # Rebound to simple function\n",
    "def method(self, x,y):\n",
    "...\n",
    "x = C()\n",
    "x.method(6,7)\n",
    "    \n",
    "    "
   ]
  },
  {
   "cell_type": "code",
   "execution_count": 11,
   "id": "335266ce",
   "metadata": {},
   "outputs": [
    {
     "name": "stdout",
     "output_type": "stream",
     "text": [
      "type(arg):  <class 'type'>\n",
      "type(C):  <class 'NoneType'>\n"
     ]
    }
   ],
   "source": [
    "import sys\n",
    "\n",
    "def decorator(arg):\n",
    "    print(\"type(arg): \", type(arg))\n",
    "    # Try return(10)\n",
    "    \n",
    "@decorator\n",
    "class C:\n",
    "    def __init__(self, n):\n",
    "        self.n = n\n",
    "        \n",
    "    def getn(self):\n",
    "        return self.n\n",
    "    \n",
    "    def setn(self, new_n):\n",
    "        self.n = new_n\n",
    "        \n",
    "def main():\n",
    "    print(\"type(C): \", type(C))\n",
    "    \n",
    "    sys.exit\n",
    "main()"
   ]
  },
  {
   "cell_type": "code",
   "execution_count": 12,
   "id": "eea84460",
   "metadata": {},
   "outputs": [
    {
     "name": "stdout",
     "output_type": "stream",
     "text": [
      "type(C):  <class 'type'>\n"
     ]
    }
   ],
   "source": [
    "import sys\n",
    "\n",
    "# def decorator(arg):\n",
    "#     print(\"type(arg): \", type(arg))\n",
    "#     # Try return(10)\n",
    "    \n",
    "# @decorator\n",
    "class C:\n",
    "    def __init__(self, n):\n",
    "        self.n = n\n",
    "        \n",
    "    def getn(self):\n",
    "        return self.n\n",
    "    \n",
    "    def setn(self, new_n):\n",
    "        self.n = new_n\n",
    "        \n",
    "def main():\n",
    "    print(\"type(C): \", type(C))\n",
    "    \n",
    "    sys.exit\n",
    "main()"
   ]
  },
  {
   "cell_type": "code",
   "execution_count": 13,
   "id": "a5e32918",
   "metadata": {},
   "outputs": [
    {
     "name": "stdout",
     "output_type": "stream",
     "text": [
      "type(a):  <class 'function'>\n",
      "type(f):  <class 'NoneType'>\n"
     ]
    }
   ],
   "source": [
    "def abc(a):\n",
    "    print(\"type(a): \",type(a))\n",
    "    \n",
    "@abc\n",
    "def f():\n",
    "    print(\"i am in f\")\n",
    "    \n",
    "def main():\n",
    "    print(\"type(f): \", type(f))\n",
    "    \n",
    "main()"
   ]
  },
  {
   "cell_type": "code",
   "execution_count": null,
   "id": "4e52307e",
   "metadata": {},
   "outputs": [],
   "source": [
    "import sys\n",
    "\n",
    "def decorator(arg):\n",
    "    print(\"type(arg): \", type(arg))\n",
    "    return(10)\n",
    "    \n",
    "@decorator\n",
    "class C:\n",
    "    def __init__(self, n):\n",
    "        self.n = n\n",
    "        \n",
    "    def getn(self):\n",
    "        return self.n\n",
    "    \n",
    "    def setn(self, new_n):\n",
    "        self.n = new_n\n",
    "        \n",
    "def main():\n",
    "    print(\"type(C): \", type(C))\n",
    "    \n",
    "    sys.exit\n",
    "main()"
   ]
  }
 ],
 "metadata": {
  "kernelspec": {
   "display_name": "Python 3 (ipykernel)",
   "language": "python",
   "name": "python3"
  },
  "language_info": {
   "codemirror_mode": {
    "name": "ipython",
    "version": 3
   },
   "file_extension": ".py",
   "mimetype": "text/x-python",
   "name": "python",
   "nbconvert_exporter": "python",
   "pygments_lexer": "ipython3",
   "version": "3.8.10"
  }
 },
 "nbformat": 4,
 "nbformat_minor": 5
}
