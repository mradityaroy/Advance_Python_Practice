{
 "cells": [
  {
   "cell_type": "code",
   "execution_count": 7,
   "id": "8a0a023b",
   "metadata": {},
   "outputs": [
    {
     "name": "stdout",
     "output_type": "stream",
     "text": [
      "Settin Value..\n",
      "Getting value...\n",
      "c.temperature:  0\n",
      "Settin Value..\n",
      "Getting value...\n",
      "c.temperature:  37\n",
      "Getting value...\n",
      "fnht  69.0\n"
     ]
    }
   ],
   "source": [
    "class Celcius:\n",
    "    def __init__(self, temperature = 0):\n",
    "        self.temperature = temperature\n",
    "        \n",
    "    def to_fahrenheight(self):\n",
    "        return (self.temperature * 1.0) + 32\n",
    "    \n",
    "    @property\n",
    "    def temperature(self):\n",
    "        print(\"Getting value...\")\n",
    "        return self._temperature\n",
    "    \n",
    "    @temperature.setter\n",
    "    def temperature(self, value):\n",
    "        if value < -273:\n",
    "            raise ValueError(\"Temperature below -273 is not possible\")\n",
    "        print(\"Settin Value..\")\n",
    "        self._temperature = value\n",
    "        \n",
    "def main():\n",
    "    \n",
    "    c = Celcius()\n",
    "    print(\"c.temperature: \", c.temperature)\n",
    "    c.temperature = 37\n",
    "    print(\"c.temperature: \", c.temperature)\n",
    "    fnht = c.to_fahrenheight()\n",
    "    print(\"fnht \", fnht)\n",
    "    \n",
    "main()"
   ]
  },
  {
   "cell_type": "code",
   "execution_count": 11,
   "id": "1c5c72d1",
   "metadata": {},
   "outputs": [
    {
     "name": "stdout",
     "output_type": "stream",
     "text": [
      "Getting value...\n",
      "c.temperature:  0\n",
      "Settin Value..\n",
      "Getting value...\n",
      "c.temperature:  37\n",
      "fnht  98.60000000000001\n"
     ]
    }
   ],
   "source": [
    "class Celcius:\n",
    "    def __init__(self, temperature = 0):\n",
    "        self._temperature = temperature\n",
    "        \n",
    "    def to_fahrenheit(self):\n",
    "        return (self._temperature * 1.8) + 32\n",
    "    \n",
    "    @property\n",
    "    def temperature(self):\n",
    "        print(\"Getting value...\")\n",
    "        return self._temperature\n",
    "    \n",
    "    @temperature.setter\n",
    "    def temperature(self, value):\n",
    "        if value < -273:\n",
    "            raise ValueError(\"Temperature below -273 is not possible\")\n",
    "        print(\"Settin Value..\")\n",
    "        self._temperature = value\n",
    "        \n",
    "def main():\n",
    "    \n",
    "    c = Celcius()\n",
    "    print(\"c.temperature: \", c.temperature)\n",
    "    c.temperature = 37\n",
    "    print(\"c.temperature: \", c.temperature)\n",
    "    fnht = c.to_fahrenheit()\n",
    "    print(\"fnht \", fnht)\n",
    "    \n",
    "main()"
   ]
  },
  {
   "cell_type": "code",
   "execution_count": 10,
   "id": "58f60f2e",
   "metadata": {},
   "outputs": [
    {
     "name": "stdout",
     "output_type": "stream",
     "text": [
      "man.temperature:  37\n",
      "man.to_fahrenheit:  98.60000000000001\n",
      "man.__dict__:  {'temperature': 37}\n"
     ]
    }
   ],
   "source": [
    "import sys\n",
    "class Celcius:\n",
    "    def __init__(self, temperature = 0):\n",
    "        self.temperature = temperature\n",
    "        \n",
    "    def to_fahrenheit(self):\n",
    "        return (self.temperature * 1.8) + 32\n",
    "    \n",
    "def main():\n",
    "    man = Celcius()\n",
    "    man.temperature = 37\n",
    "    print(\"man.temperature: \", man.temperature)\n",
    "    print(\"man.to_fahrenheit: \", man.to_fahrenheit())\n",
    "    print(\"man.__dict__: \", man.__dict__)\n",
    "    \n",
    "main()"
   ]
  },
  {
   "cell_type": "code",
   "execution_count": 8,
   "id": "d7aec18c",
   "metadata": {},
   "outputs": [
    {
     "name": "stdout",
     "output_type": "stream",
     "text": [
      "Getting value...\n",
      "c.get_temperature():  37\n",
      "Setting value...\n",
      "-300 is bad value\n",
      "Getting value...\n",
      "c.get_temperature():  -300\n"
     ]
    }
   ],
   "source": [
    "import sys\n",
    "\n",
    "class Celcius:\n",
    "    def __init__(self, temperature = 0):\n",
    "        self._temperature = temperature\n",
    "        \n",
    "    def to_fahrenheit(self):\n",
    "        return (self._temperature * 1.8) + 31\n",
    "    \n",
    "    def get_temperature(self):\n",
    "        print(\"Getting value...\")\n",
    "        return self._temperature\n",
    "    \n",
    "    def set_temperature(self, value):\n",
    "        if value < -273:\n",
    "            raise ValueError(\"Temperature below -273 is not possible\")\n",
    "        print(\"Setting value...\")\n",
    "        self._temperature = value\n",
    "        \n",
    "def main():\n",
    "    try:\n",
    "        c = Celcius(-277)\n",
    "    except ValueError:\n",
    "        print(\"-277 is bad value\")\n",
    "        \n",
    "    c =Celcius(37)\n",
    "    print(\"c.get_temperature(): \", c.get_temperature())\n",
    "    c.set_temperature(10)\n",
    "    \n",
    "    try:\n",
    "        c.set_temperature(-300)\n",
    "    except ValueError:\n",
    "        print(\"-300 is bad value\")\n",
    "        \n",
    "    # Python does not implement data encapsulation\n",
    "    c._temperature = -300\n",
    "    print(\"c.get_temperature(): \", c.get_temperature())\n",
    "    sys.exit\n",
    "    \n",
    "    \n",
    "main()"
   ]
  },
  {
   "cell_type": "code",
   "execution_count": 7,
   "id": "4cf2b47b",
   "metadata": {},
   "outputs": [
    {
     "name": "stdout",
     "output_type": "stream",
     "text": [
      "Getting value...\n",
      "c.get_temperature():  37\n",
      "Setting value...\n",
      "-300 is bad value\n",
      "Getting value...\n",
      "c.get_temperature():  -300\n"
     ]
    }
   ],
   "source": [
    "import sys\n",
    "\n",
    "class Celcius:\n",
    "    def __init__(self, temperature = 0):\n",
    "        self._temperature = temperature\n",
    "        \n",
    "    def to_fahrenheit(self):\n",
    "        return (self._temperature * 1.8) + 31\n",
    "    \n",
    "    def get_temperature(self):\n",
    "        print(\"Getting value...\")\n",
    "        return self._temperature\n",
    "    \n",
    "    def set_temperature(self, value):\n",
    "        if value < -273:\n",
    "            raise ValueError(\"Temperature below -273 is not possible\")\n",
    "        print(\"Setting value...\")\n",
    "        self._temperature = value\n",
    "        \n",
    "def main():\n",
    "    try:\n",
    "        c = Celcius(-277)\n",
    "    except ValueError:\n",
    "        print(\"-277 is bad value\")\n",
    "        \n",
    "    c =Celcius(37)\n",
    "    print(\"c.get_temperature(): \", c.get_temperature())\n",
    "    c.set_temperature(10)\n",
    "    \n",
    "    try:\n",
    "        c.set_temperature(-300)\n",
    "    except ValueError:\n",
    "        print(\"-300 is bad value\")\n",
    "        \n",
    "    # Python does not implement data encapsulation\n",
    "    c._temperature = -300\n",
    "    print(\"c.get_temperature(): \", c.get_temperature())\n",
    "    sys.exit\n",
    "    \n",
    "    \n",
    "main()"
   ]
  },
  {
   "cell_type": "code",
   "execution_count": 10,
   "id": "459ba885",
   "metadata": {},
   "outputs": [
    {
     "name": "stdout",
     "output_type": "stream",
     "text": [
      "type(temperature):  <class 'property'>\n",
      "temperature:  <property object at 0x7f3e2ae1b950>\n",
      "type(temperature):  <class 'property'>\n",
      "temperature:  <property object at 0x7f3e29fde040>\n",
      "type(temperature):  <class 'property'>\n",
      "temperature:  <property object at 0x7f3e4823f400>\n",
      "Getting value...\n",
      "c.temperature:  0\n",
      "Setting value...\n",
      "Getting value...\n",
      "c.temperature:  37\n",
      "fnht  97.60000000000001\n"
     ]
    }
   ],
   "source": [
    "import sys\n",
    "\n",
    "class Celcius:\n",
    "    def __init__(self, temperature = 0):\n",
    "        self._temperature = temperature\n",
    "        \n",
    "    def to_fahrenheit(self):\n",
    "        return (self._temperature * 1.8) + 31\n",
    "    \n",
    "    def get_temperature(self):\n",
    "        print(\"Getting value...\")\n",
    "        return self._temperature\n",
    "    \n",
    "    def set_temperature(self, value):\n",
    "        if value < -273:\n",
    "            raise ValueError(\"Temperature below -273 is not possible\")\n",
    "        print(\"Setting value...\")\n",
    "        self._temperature = value\n",
    "        \n",
    "def main():\n",
    "    temperature = property()\n",
    "    print(\"type(temperature): \", type(temperature))\n",
    "    print(\"temperature: \", temperature)\n",
    "    \n",
    "    temperature = temperature.getter(Celcius.get_temperature)\n",
    "    print(\"type(temperature): \", type(temperature))\n",
    "    print(\"temperature: \", temperature)\n",
    "    \n",
    "    temperature = temperature.setter(Celcius.set_temperature)\n",
    "    print(\"type(temperature): \", type(temperature))\n",
    "    print(\"temperature: \", temperature)\n",
    "    \n",
    "    Celcius.temperature = temperature\n",
    "    c = Celcius()\n",
    "    print(\"c.temperature: \", c.temperature)\n",
    "    c.temperature = 37\n",
    "    print(\"c.temperature: \", c.temperature)\n",
    "    fnht = c.to_fahrenheit()\n",
    "    print(\"fnht \", fnht)\n",
    "    \n",
    "main()"
   ]
  },
  {
   "cell_type": "code",
   "execution_count": 13,
   "id": "0395394b",
   "metadata": {},
   "outputs": [
    {
     "name": "stdout",
     "output_type": "stream",
     "text": [
      "0 is not natural number\n"
     ]
    }
   ],
   "source": [
    "class NaturalNumber:\n",
    "    def __init__(self, N):\n",
    "        if type(N) != int:\n",
    "            raise TypeError(\"Bad initializer type\")\n",
    "        if N <= 0:\n",
    "            raise ValueError(\"Bad initializer\")\n",
    "        self._N = N\n",
    "        \n",
    "    @property\n",
    "    def N(self):\n",
    "        return self._N\n",
    "    \n",
    "    @N.setter\n",
    "    def N(self, value):\n",
    "        if type(value) != int:\n",
    "            raise TypeError(\"Bad type\")\n",
    "        if value <= 0:\n",
    "            raise ValueError(\"Bad value\")\n",
    "        self._N = value\n",
    "            \n",
    "    @N.deleter\n",
    "    def N(self):\n",
    "        del(self._N)\n",
    "        \n",
    "def main():\n",
    "    try:\n",
    "        n = NaturalNumber(0)\n",
    "    except ValueError:\n",
    "        print(\"0 is not natural number\")\n",
    "        \n",
    "    n = NaturalNumber\n",
    "    try:\n",
    "        n.N = -100\n",
    "    except ValueError:\n",
    "        print(\"Cannot assigned negative value to natural number\")\n",
    "\n",
    "main()\n",
    "        \n",
    "        "
   ]
  },
  {
   "cell_type": "code",
   "execution_count": null,
   "id": "7d343bf3",
   "metadata": {},
   "outputs": [],
   "source": [
    " "
   ]
  }
 ],
 "metadata": {
  "kernelspec": {
   "display_name": "Python 3 (ipykernel)",
   "language": "python",
   "name": "python3"
  },
  "language_info": {
   "codemirror_mode": {
    "name": "ipython",
    "version": 3
   },
   "file_extension": ".py",
   "mimetype": "text/x-python",
   "name": "python",
   "nbconvert_exporter": "python",
   "pygments_lexer": "ipython3",
   "version": "3.8.10"
  }
 },
 "nbformat": 4,
 "nbformat_minor": 5
}
