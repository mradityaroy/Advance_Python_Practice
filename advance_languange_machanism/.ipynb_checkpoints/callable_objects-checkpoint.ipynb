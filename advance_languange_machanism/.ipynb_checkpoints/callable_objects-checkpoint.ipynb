{
 "cells": [
  {
   "cell_type": "code",
   "execution_count": 2,
   "id": "5513dc76",
   "metadata": {},
   "outputs": [
    {
     "name": "stdout",
     "output_type": "stream",
     "text": [
      "calling function\n",
      "test_function: In test_function\n"
     ]
    }
   ],
   "source": [
    "import sys\n",
    "\n",
    "class TestClass:\n",
    "    def __init__(self, ref_fun):\n",
    "        self.function = ref_fun\n",
    "        \n",
    "    def __call__(self):\n",
    "        self.function()\n",
    "        \n",
    "def test_function():\n",
    "    print(\"test_function: In test_function\")\n",
    "    \n",
    "def main():\n",
    "    t1 = TestClass(test_function)\n",
    "    t1()  # Invoke __call__ passing t1 as self\n",
    "    sys.exit\n",
    "    \n",
    "main()"
   ]
  },
  {
   "cell_type": "code",
   "execution_count": null,
   "id": "8dd1228a",
   "metadata": {},
   "outputs": [],
   "source": []
  }
 ],
 "metadata": {
  "kernelspec": {
   "display_name": "Python 3 (ipykernel)",
   "language": "python",
   "name": "python3"
  },
  "language_info": {
   "codemirror_mode": {
    "name": "ipython",
    "version": 3
   },
   "file_extension": ".py",
   "mimetype": "text/x-python",
   "name": "python",
   "nbconvert_exporter": "python",
   "pygments_lexer": "ipython3",
   "version": "3.8.10"
  }
 },
 "nbformat": 4,
 "nbformat_minor": 5
}
