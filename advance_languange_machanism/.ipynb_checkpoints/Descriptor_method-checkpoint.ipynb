{
 "cells": [
  {
   "cell_type": "markdown",
   "id": "b25094a2",
   "metadata": {},
   "source": [
    " This is elegant method as compared to property method"
   ]
  },
  {
   "cell_type": "code",
   "execution_count": 5,
   "id": "b897e15c",
   "metadata": {},
   "outputs": [
    {
     "name": "stdout",
     "output_type": "stream",
     "text": [
      "fetch..\n",
      "Bob Smith\n",
      "change..\n",
      "fetch..\n",
      "Robert Smith\n",
      "remove..\n",
      "--------------------\n",
      "fetch..\n",
      "Sue Jones\n"
     ]
    }
   ],
   "source": [
    "import sys\n",
    "\n",
    "class Name:\n",
    "    \"name descriptor docs\"\n",
    "    def __get__(self, instance, owner):\n",
    "        print('fetch..')\n",
    "        return instance._name\n",
    "    def __set__(self, instance, value):\n",
    "        print('change..')\n",
    "        instance._name = value\n",
    "    def __delete__(self, instance):\n",
    "        print('remove..')\n",
    "        del instance._name\n",
    "        \n",
    "class Person:\n",
    "    def __init__(self, name):\n",
    "        self._name = name\n",
    "    name = Name()\n",
    "\n",
    "def main():\n",
    "    bob = Person('Bob Smith')\n",
    "    print(bob.name)\n",
    "    bob.name = 'Robert Smith'\n",
    "    print(bob.name)\n",
    "    \n",
    "    del bob.name\n",
    "    print('-'*20)\n",
    "    sue = Person('Sue Jones')\n",
    "    print(sue.name)\n",
    "#     print(Person.name.__doc__)\n",
    "    \n",
    "    sys.exit\n",
    "    \n",
    "main()"
   ]
  },
  {
   "cell_type": "code",
   "execution_count": null,
   "id": "3b0a1a7d",
   "metadata": {},
   "outputs": [],
   "source": []
  }
 ],
 "metadata": {
  "kernelspec": {
   "display_name": "Python 3 (ipykernel)",
   "language": "python",
   "name": "python3"
  },
  "language_info": {
   "codemirror_mode": {
    "name": "ipython",
    "version": 3
   },
   "file_extension": ".py",
   "mimetype": "text/x-python",
   "name": "python",
   "nbconvert_exporter": "python",
   "pygments_lexer": "ipython3",
   "version": "3.8.10"
  }
 },
 "nbformat": 4,
 "nbformat_minor": 5
}
