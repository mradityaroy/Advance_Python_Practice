{
 "cells": [
  {
   "cell_type": "code",
   "execution_count": 7,
   "id": "6cae551a",
   "metadata": {},
   "outputs": [
    {
     "name": "stdout",
     "output_type": "stream",
     "text": [
      "type(x): <class 'function'>\n",
      "hex(id(x)): 0x7f9f9c032ee0\n",
      "hex(id(ret)): 0x7f9fa0dab6f0\n",
      "hex(id(f)): 0x7f9fa0dab6f0\n"
     ]
    },
    {
     "ename": "TypeError",
     "evalue": "'str' object is not callable",
     "output_type": "error",
     "traceback": [
      "\u001b[0;31m---------------------------------------------------------------------------\u001b[0m",
      "\u001b[0;31mTypeError\u001b[0m                                 Traceback (most recent call last)",
      "Input \u001b[0;32mIn [7]\u001b[0m, in \u001b[0;36m<cell line: 14>\u001b[0;34m()\u001b[0m\n\u001b[1;32m     12\u001b[0m     \u001b[38;5;28mprint\u001b[39m(rs)\n\u001b[1;32m     13\u001b[0m \u001b[38;5;28mprint\u001b[39m(\u001b[38;5;124m\"\u001b[39m\u001b[38;5;124mhex(id(f)):\u001b[39m\u001b[38;5;124m\"\u001b[39m, \u001b[38;5;28mhex\u001b[39m(\u001b[38;5;28mid\u001b[39m(f)))   \n\u001b[0;32m---> 14\u001b[0m \u001b[43mf\u001b[49m\u001b[43m(\u001b[49m\u001b[38;5;241;43m10\u001b[39;49m\u001b[43m,\u001b[49m\u001b[43m \u001b[49m\u001b[38;5;241;43m20\u001b[39;49m\u001b[43m)\u001b[49m\n",
      "\u001b[0;31mTypeError\u001b[0m: 'str' object is not callable"
     ]
    }
   ],
   "source": [
    "def F(x):\n",
    "    print(\"type(x):\", type(x))\n",
    "    print(\"hex(id(x)):\", hex(id(x)))\n",
    "    ret = \"foo\"\n",
    "    print(\"hex(id(ret)):\", hex(id(ret)))\n",
    "    return ret\n",
    "\n",
    "\n",
    "@F\n",
    "def f(n1, n2):\n",
    "    rs = n1 + n2\n",
    "    print(rs)\n",
    "print(\"hex(id(f)):\", hex(id(f)))   \n",
    "f(10, 20)"
   ]
  },
  {
   "cell_type": "code",
   "execution_count": null,
   "id": "4142bd9d",
   "metadata": {},
   "outputs": [],
   "source": []
  },
  {
   "cell_type": "code",
   "execution_count": 9,
   "id": "e28cab85",
   "metadata": {},
   "outputs": [
    {
     "name": "stdout",
     "output_type": "stream",
     "text": [
      "F:type(x): <class 'function'>\n",
      "F:hex(id(x)): 0x7f9f8cd5f820\n",
      "hex(id(f)): 0x7f9f8cd5f940\n",
      "n1: 10 type(n1): <class 'int'>\n",
      "n1: 20 type(n2): <class 'int'>\n",
      "30\n"
     ]
    }
   ],
   "source": [
    "def F(x):\n",
    "    print(\"F:type(x):\", type(x))\n",
    "    print(\"F:hex(id(x)):\", hex(id(x)))\n",
    "    def wrapper_function(n1, n2):\n",
    "        print(\"n1:\", n1, \"type(n1):\", type(n1))\n",
    "        print(\"n1:\", n2, \"type(n2):\", type(n2))\n",
    "        ret = x(n1, n2)\n",
    "        return ret\n",
    "    return (wrapper_function)\n",
    "\n",
    "\n",
    "@F\n",
    "def f(n1, n2):\n",
    "    rs = n1 + n2\n",
    "    print(rs)\n",
    "print(\"hex(id(f)):\", hex(id(f)))   \n",
    "f(10, 20)"
   ]
  },
  {
   "cell_type": "code",
   "execution_count": null,
   "id": "c0db3dc5",
   "metadata": {},
   "outputs": [],
   "source": []
  }
 ],
 "metadata": {
  "kernelspec": {
   "display_name": "Python 3 (ipykernel)",
   "language": "python",
   "name": "python3"
  },
  "language_info": {
   "codemirror_mode": {
    "name": "ipython",
    "version": 3
   },
   "file_extension": ".py",
   "mimetype": "text/x-python",
   "name": "python",
   "nbconvert_exporter": "python",
   "pygments_lexer": "ipython3",
   "version": "3.8.10"
  }
 },
 "nbformat": 4,
 "nbformat_minor": 5
}
