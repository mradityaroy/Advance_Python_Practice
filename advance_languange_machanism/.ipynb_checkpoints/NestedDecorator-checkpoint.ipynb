{
 "cells": [
  {
   "cell_type": "markdown",
   "id": "dbae171f",
   "metadata": {},
   "source": [
    "# Nested Decorator Demo 1"
   ]
  },
  {
   "cell_type": "code",
   "execution_count": 4,
   "id": "c25157d4",
   "metadata": {},
   "outputs": [
    {
     "name": "stdout",
     "output_type": "stream",
     "text": [
      "I am in d3\n",
      "I am in d2\n",
      "I am in d1\n",
      "Now, I am in func\n",
      "Hello, Python World!\n"
     ]
    }
   ],
   "source": [
    "\n",
    "# @C\n",
    "# def f(...)\n",
    "#   ...\n",
    "# Rebinding : f = A(B(C(f)))\n",
    "\n",
    "# Same with the class decorator\n",
    "\n",
    "# @A\n",
    "# @B\n",
    "# class C:\n",
    "#        ... definition of class C\n",
    "#     Rebinding : C = A(B(C))\n",
    "import sys\n",
    "\n",
    "def d1(F):\n",
    "    print(\"I am in d1\")\n",
    "    return F\n",
    "def d2(F):\n",
    "    print(\"I am in d2\")\n",
    "    return F\n",
    "def d3(F):\n",
    "    print(\"I am in d3\")\n",
    "    return F\n",
    "\n",
    "@d1\n",
    "@d2\n",
    "@d3\n",
    "def func():\n",
    "    print(\"Now, I am in func\")\n",
    "    print(\"Hello, Python World!\")\n",
    "    \n",
    "def main():\n",
    "    func()\n",
    "    sys.exit\n",
    "main()\n",
    "\n",
    "# func = d1(d2(d3(func)))\n",
    "# Prints \"spam\""
   ]
  },
  {
   "cell_type": "markdown",
   "id": "61e4677b",
   "metadata": {},
   "source": [
    "# Nested Decorator Demo 2"
   ]
  },
  {
   "cell_type": "code",
   "execution_count": 7,
   "id": "0702d280",
   "metadata": {},
   "outputs": [
    {
     "name": "stdout",
     "output_type": "stream",
     "text": [
      "I am in d3\n",
      "I am in d2\n",
      "I am in d1\n",
      "Now, I am in func\n",
      "XYZ spam\n"
     ]
    }
   ],
   "source": [
    "import sys\n",
    "\n",
    "def d1(F):\n",
    "    print(\"I am in d1\")\n",
    "    return lambda: 'X' + F()\n",
    "def d2(F):\n",
    "    print(\"I am in d2\")\n",
    "    return lambda: 'Y' + F()\n",
    "def d3(F):\n",
    "    print(\"I am in d3\")\n",
    "    return lambda: 'Z' + F()\n",
    "\n",
    "@d1\n",
    "@d2\n",
    "@d3\n",
    "def func():\n",
    "    print(\"Now, I am in func\")\n",
    "    return ' spam'\n",
    "    \n",
    "def main():\n",
    "    print(func())\n",
    "    sys.exit\n",
    "main()"
   ]
  },
  {
   "cell_type": "code",
   "execution_count": null,
   "id": "d8211750",
   "metadata": {},
   "outputs": [],
   "source": []
  }
 ],
 "metadata": {
  "kernelspec": {
   "display_name": "Python 3 (ipykernel)",
   "language": "python",
   "name": "python3"
  },
  "language_info": {
   "codemirror_mode": {
    "name": "ipython",
    "version": 3
   },
   "file_extension": ".py",
   "mimetype": "text/x-python",
   "name": "python",
   "nbconvert_exporter": "python",
   "pygments_lexer": "ipython3",
   "version": "3.8.10"
  }
 },
 "nbformat": 4,
 "nbformat_minor": 5
}
