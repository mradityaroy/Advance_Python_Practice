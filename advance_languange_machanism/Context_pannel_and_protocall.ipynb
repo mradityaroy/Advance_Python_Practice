{
 "cells": [
  {
   "cell_type": "code",
   "execution_count": 3,
   "id": "2235ae75",
   "metadata": {},
   "outputs": [
    {
     "name": "stdout",
     "output_type": "stream",
     "text": [
      "{\n",
      " \"cells\": [\n",
      "  {\n",
      "   \"cell_type\": \"code\",\n",
      "   \"execution_count\": 2,\n",
      "   \"id\": \"6694b49a\",\n",
      "   \"metadata\": {},\n",
      "   \"outputs\": [],\n",
      "   \"source\": []\n",
      "  },\n",
      "  {\n",
      "   \"cell_type\": \"code\",\n",
      "   \"execution_count\": 4,\n",
      "   \"id\": \"9389d22b\",\n",
      "   \"metadata\": {},\n",
      "   \"outputs\": [],\n",
      "   \"source\": [\n",
      "    \"def gensquare(n):\\n\",\n",
      "    \"    for i in range(n):\\n\",\n",
      "    \"        return (i**2)\\n\",\n",
      "    \"    \\n\",\n",
      "    \"rs = gensquare(100)\"\n",
      "   ]\n",
      "  },\n",
      "  {\n",
      "   \"cell_type\": \"code\",\n",
      "   \"execution_count\": 5,\n",
      "   \"id\": \"6e2e806a\",\n",
      "   \"metadata\": {},\n",
      "   \"outputs\": [\n",
      "    {\n",
      "     \"name\": \"stdout\",\n",
      "     \"output_type\": \"stream\",\n",
      "     \"text\": [\n",
      "      \"0\\n\"\n",
      "     ]\n",
      "    }\n",
      "   ],\n",
      "   \"source\": [\n",
      "    \"print(rs)\"\n",
      "   ]\n",
      "  },\n",
      "  {\n",
      "   \"cell_type\": \"code\",\n",
      "   \"execution_count\": 11,\n",
      "   \"id\": \"769334d1\",\n",
      "   \"metadata\": {},\n",
      "   \"outputs\": [],\n",
      "   \"source\": [\n",
      "    \"def gensquare_method2(n):\\n\",\n",
      "    \"    for i in range(n):\\n\",\n",
      "    \"        yield (i**2)\\n\",\n",
      "    \"    \\n\",\n",
      "    \"rs = gensquare_method2(10)\"\n",
      "   ]\n",
      "  },\n",
      "  {\n",
      "   \"cell_type\": \"code\",\n",
      "   \"execution_count\": 12,\n",
      "   \"id\": \"832e1070\",\n",
      "   \"metadata\": {},\n",
      "   \"outputs\": [\n",
      "    {\n",
      "     \"name\": \"stdout\",\n",
      "     \"output_type\": \"stream\",\n",
      "     \"text\": [\n",
      "      \"<class 'generator'>\\n\"\n",
      "     ]\n",
      "    }\n",
      "   ],\n",
      "   \"source\": [\n",
      "    \"print(type(rs))\"\n",
      "   ]\n",
      "  },\n",
      "  {\n",
      "   \"cell_type\": \"code\",\n",
      "   \"execution_count\": 13,\n",
      "   \"id\": \"8458e636\",\n",
      "   \"metadata\": {},\n",
      "   \"outputs\": [\n",
      "    {\n",
      "     \"name\": \"stdout\",\n",
      "     \"output_type\": \"stream\",\n",
      "     \"text\": [\n",
      "      \"0\\n\",\n",
      "      \"1\\n\",\n",
      "      \"4\\n\",\n",
      "      \"9\\n\",\n",
      "      \"16\\n\",\n",
      "      \"25\\n\",\n",
      "      \"36\\n\",\n",
      "      \"49\\n\",\n",
      "      \"64\\n\",\n",
      "      \"81\\n\"\n",
      "     ]\n",
      "    }\n",
      "   ],\n",
      "   \"source\": [\n",
      "    \"gen_iter = rs.__iter__()\\n\",\n",
      "    \"while True:\\n\",\n",
      "    \"    try:\\n\",\n",
      "    \"        element = gen_iter.__next__()\\n\",\n",
      "    \"    except StopIteration:\\n\",\n",
      "    \"        break\\n\",\n",
      "    \"    print(element)\"\n",
      "   ]\n",
      "  },\n",
      "  {\n",
      "   \"cell_type\": \"code\",\n",
      "   \"execution_count\": 15,\n",
      "   \"id\": \"041a11fd\",\n",
      "   \"metadata\": {},\n",
      "   \"outputs\": [],\n",
      "   \"source\": [\n",
      "    \"rs = gensquare_method2(10)\"\n",
      "   ]\n",
      "  },\n",
      "  {\n",
      "   \"cell_type\": \"code\",\n",
      "   \"execution_count\": 16,\n",
      "   \"id\": \"a78cac83\",\n",
      "   \"metadata\": {},\n",
      "   \"outputs\": [\n",
      "    {\n",
      "     \"name\": \"stdout\",\n",
      "     \"output_type\": \"stream\",\n",
      "     \"text\": [\n",
      "      \"0\\n\",\n",
      "      \"1\\n\",\n",
      "      \"4\\n\",\n",
      "      \"9\\n\",\n",
      "      \"16\\n\",\n",
      "      \"25\\n\",\n",
      "      \"36\\n\",\n",
      "      \"49\\n\",\n",
      "      \"64\\n\",\n",
      "      \"81\\n\"\n",
      "     ]\n",
      "    }\n",
      "   ],\n",
      "   \"source\": [\n",
      "    \"for i in rs:\\n\",\n",
      "    \"    print(i)\"\n",
      "   ]\n",
      "  },\n",
      "  {\n",
      "   \"cell_type\": \"code\",\n",
      "   \"execution_count\": 18,\n",
      "   \"id\": \"bf8a89e0\",\n",
      "   \"metadata\": {},\n",
      "   \"outputs\": [\n",
      "    {\n",
      "     \"name\": \"stdout\",\n",
      "     \"output_type\": \"stream\",\n",
      "     \"text\": [\n",
      "      \"(0, 10)\\n\",\n",
      "      \"(1, 20)\\n\",\n",
      "      \"(2, 30)\\n\",\n",
      "      \"(3, 40)\\n\"\n",
      "     ]\n",
      "    }\n",
      "   ],\n",
      "   \"source\": [\n",
      "    \"L = [10,20,30,40]\\n\",\n",
      "    \"for element in enumerate(L):\\n\",\n",
      "    \"    print(element)\"\n",
      "   ]\n",
      "  },\n",
      "  {\n",
      "   \"cell_type\": \"markdown\",\n",
      "   \"id\": \"8f81a075\",\n",
      "   \"metadata\": {},\n",
      "   \"source\": [\n",
      "    \"os.walk\"\n",
      "   ]\n",
      "  },\n",
      "  {\n",
      "   \"cell_type\": \"code\",\n",
      "   \"execution_count\": null,\n",
      "   \"id\": \"0c5a1fb9\",\n",
      "   \"metadata\": {},\n",
      "   \"outputs\": [],\n",
      "   \"source\": []\n",
      "  },\n",
      "  {\n",
      "   \"cell_type\": \"code\",\n",
      "   \"execution_count\": null,\n",
      "   \"id\": \"745c1f87\",\n",
      "   \"metadata\": {},\n",
      "   \"outputs\": [],\n",
      "   \"source\": []\n",
      "  }\n",
      " ],\n",
      " \"metadata\": {\n",
      "  \"kernelspec\": {\n",
      "   \"display_name\": \"Python 3 (ipykernel)\",\n",
      "   \"language\": \"python\",\n",
      "   \"name\": \"python3\"\n",
      "  },\n",
      "  \"language_info\": {\n",
      "   \"codemirror_mode\": {\n",
      "    \"name\": \"ipython\",\n",
      "    \"version\": 3\n",
      "   },\n",
      "   \"file_extension\": \".py\",\n",
      "   \"mimetype\": \"text/x-python\",\n",
      "   \"name\": \"python\",\n",
      "   \"nbconvert_exporter\": \"python\",\n",
      "   \"pygments_lexer\": \"ipython3\",\n",
      "   \"version\": \"3.8.10\"\n",
      "  }\n",
      " },\n",
      " \"nbformat\": 4,\n",
      " \"nbformat_minor\": 5\n",
      "}\n"
     ]
    }
   ],
   "source": [
    "f = open(r\"/home/aditya/Documents/Python_practice/advance_languange_machanism/generators_yield.ipynb\",'r')\n",
    "for line in f:\n",
    "    print(line, end = \"\")\n",
    "    "
   ]
  },
  {
   "cell_type": "code",
   "execution_count": 4,
   "id": "550d42a4",
   "metadata": {},
   "outputs": [
    {
     "name": "stdout",
     "output_type": "stream",
     "text": [
      "L = [10,20,30,40,50,60]\n",
      "\n",
      "lst_iterator = L.__iter__()\n",
      "\n",
      "while True:\n",
      "\n",
      "    try:\n",
      "        element = lst_iterator.__next__()\n",
      "    except StopIteration:\n",
      "        break\n",
      "    print(element)\n"
     ]
    }
   ],
   "source": [
    "f = open(r\"/home/aditya/Documents/Python_practice/advance_languange_machanism/open_file_check.py\",'r')\n",
    "for line in f:\n",
    "    print(line, end = \"\")\n",
    "    "
   ]
  },
  {
   "cell_type": "code",
   "execution_count": 5,
   "id": "0b6eb979",
   "metadata": {},
   "outputs": [],
   "source": [
    "f.close()"
   ]
  },
  {
   "cell_type": "code",
   "execution_count": 7,
   "id": "227ad401",
   "metadata": {},
   "outputs": [
    {
     "name": "stdout",
     "output_type": "stream",
     "text": [
      "L = [10,20,30,40,50,60]\n",
      "\n",
      "lst_iterator = L.__iter__()\n",
      "\n",
      "while True:\n",
      "\n",
      "    try:\n",
      "        element = lst_iterator.__next__()\n",
      "    except StopIteration:\n",
      "        break\n",
      "    print(element)\n"
     ]
    }
   ],
   "source": [
    "with open(r\"open_file_check.py\",\"r\") as f:\n",
    "    for line in f:\n",
    "        print(line, end =\"\")"
   ]
  },
  {
   "cell_type": "code",
   "execution_count": 12,
   "id": "7104b309",
   "metadata": {},
   "outputs": [
    {
     "name": "stdout",
     "output_type": "stream",
     "text": [
      "\n"
     ]
    }
   ],
   "source": [
    "with open(r\"open_file_check.py\",\"r+\"):\n",
    "#     for line in f:\n",
    "    print()"
   ]
  },
  {
   "cell_type": "code",
   "execution_count": 11,
   "id": "8533984c",
   "metadata": {},
   "outputs": [
    {
     "name": "stdout",
     "output_type": "stream",
     "text": [
      "    print(element)\n"
     ]
    }
   ],
   "source": [
    "print(line, end =\"\")"
   ]
  },
  {
   "cell_type": "markdown",
   "id": "b769d5cc",
   "metadata": {},
   "source": [
    "# Context Management Protocol"
   ]
  },
  {
   "cell_type": "markdown",
   "id": "ffe7c605",
   "metadata": {},
   "source": [
    "Server Class"
   ]
  },
  {
   "cell_type": "code",
   "execution_count": 22,
   "id": "c0ebfa50",
   "metadata": {},
   "outputs": [],
   "source": [
    "class TraceBlock:\n",
    "    def message(self, arg):\n",
    "        print('running ' + arg)\n",
    "    def __enter__(self):\n",
    "        print('starting with block')\n",
    "        return self\n",
    "    def __exit__(self, exc_type, exc_value, exc_tb):\n",
    "        if exc_type is None:\n",
    "            print('exited normally\\n')\n",
    "        else:\n",
    "            print('raise an execptional!' + str(exc_type))\n",
    "            return False #Propagate\n",
    "\n",
    "\n"
   ]
  },
  {
   "cell_type": "markdown",
   "id": "bfd9f1ec",
   "metadata": {},
   "source": [
    "Client"
   ]
  },
  {
   "cell_type": "code",
   "execution_count": 23,
   "id": "1bc0309a",
   "metadata": {},
   "outputs": [
    {
     "name": "stdout",
     "output_type": "stream",
     "text": [
      "starting with block\n",
      "running test 1\n",
      "reached\n",
      "exited normally\n",
      "\n"
     ]
    }
   ],
   "source": [
    "with TraceBlock() as action:\n",
    "    action.message('test 1')\n",
    "    print('reached')"
   ]
  },
  {
   "cell_type": "code",
   "execution_count": 24,
   "id": "80e20f2f",
   "metadata": {},
   "outputs": [
    {
     "name": "stdout",
     "output_type": "stream",
     "text": [
      "starting with block\n",
      "running test 2\n",
      "raise an execptional!<class 'TypeError'>\n"
     ]
    },
    {
     "ename": "TypeError",
     "evalue": "",
     "output_type": "error",
     "traceback": [
      "\u001b[0;31m---------------------------------------------------------------------------\u001b[0m",
      "\u001b[0;31mTypeError\u001b[0m                                 Traceback (most recent call last)",
      "Input \u001b[0;32mIn [24]\u001b[0m, in \u001b[0;36m<cell line: 1>\u001b[0;34m()\u001b[0m\n\u001b[1;32m      1\u001b[0m \u001b[38;5;28;01mwith\u001b[39;00m TraceBlock() \u001b[38;5;28;01mas\u001b[39;00m action:\n\u001b[1;32m      2\u001b[0m     action\u001b[38;5;241m.\u001b[39mmessage(\u001b[38;5;124m'\u001b[39m\u001b[38;5;124mtest 2\u001b[39m\u001b[38;5;124m'\u001b[39m)\n\u001b[0;32m----> 3\u001b[0m     \u001b[38;5;28;01mraise\u001b[39;00m \u001b[38;5;167;01mTypeError\u001b[39;00m\n\u001b[1;32m      4\u001b[0m     \u001b[38;5;28mprint\u001b[39m(\u001b[38;5;124m'\u001b[39m\u001b[38;5;124mnot reached\u001b[39m\u001b[38;5;124m'\u001b[39m)\n",
      "\u001b[0;31mTypeError\u001b[0m: "
     ]
    }
   ],
   "source": [
    "    \n",
    "with TraceBlock() as action:\n",
    "    action.message('test 2')\n",
    "    raise TypeError\n",
    "    print('not reached')"
   ]
  },
  {
   "cell_type": "code",
   "execution_count": null,
   "id": "8476cc50",
   "metadata": {},
   "outputs": [],
   "source": []
  }
 ],
 "metadata": {
  "kernelspec": {
   "display_name": "Python 3 (ipykernel)",
   "language": "python",
   "name": "python3"
  },
  "language_info": {
   "codemirror_mode": {
    "name": "ipython",
    "version": 3
   },
   "file_extension": ".py",
   "mimetype": "text/x-python",
   "name": "python",
   "nbconvert_exporter": "python",
   "pygments_lexer": "ipython3",
   "version": "3.8.10"
  }
 },
 "nbformat": 4,
 "nbformat_minor": 5
}
