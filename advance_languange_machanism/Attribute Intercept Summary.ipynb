{
 "cells": [
  {
   "cell_type": "markdown",
   "id": "457c7aad",
   "metadata": {},
   "source": [
    "# Attribute Intercept Demo 11"
   ]
  },
  {
   "cell_type": "markdown",
   "id": "a9b56520",
   "metadata": {},
   "source": [
    "which are the attributes which are getting managed \n",
    "-> _square and _cube"
   ]
  },
  {
   "cell_type": "markdown",
   "id": "fcf25572",
   "metadata": {},
   "source": [
    "which are attribute management function here -> getSquare, setSquare, getCube"
   ]
  },
  {
   "cell_type": "markdown",
   "id": "c005ef3d",
   "metadata": {},
   "source": [
    "whic are manage attribues -> square and cube"
   ]
  },
  {
   "cell_type": "code",
   "execution_count": 6,
   "id": "987ae9f2",
   "metadata": {},
   "outputs": [
    {
     "name": "stdout",
     "output_type": "stream",
     "text": [
      "Square:  9\n",
      "Cube:    64\n",
      "Square:  25\n"
     ]
    }
   ],
   "source": [
    "# Two dynamically computed attributes with properties\n",
    "\n",
    "class Powers:\n",
    "    def __init__(self, square, cube):\n",
    "        self._square = square\n",
    "        self._cube = cube\n",
    "    def getSquare(self):\n",
    "        return self._square ** 2\n",
    "    def setSquare(self, value):\n",
    "        self._square = value\n",
    "    square = property(getSquare, setSquare)\n",
    "    def getCube(self):\n",
    "        return self._cube ** 3\n",
    "    cube = property(getCube)\n",
    "    \n",
    "X = Powers(3, 4) \n",
    "print(\"Square: \", X.square)                     # 3 ** 2 = 9\n",
    "print(\"Cube:   \", X.cube)                       # 4 ** 3 = 64\n",
    "X.square = 5                                    # 5 ** 2 = 25\n",
    "print(\"Square: \", X.square)             "
   ]
  },
  {
   "cell_type": "markdown",
   "id": "6e44c9f2",
   "metadata": {},
   "source": [
    "# Attribute Intercept Demo 12`"
   ]
  },
  {
   "cell_type": "markdown",
   "id": "c4d34c26",
   "metadata": {},
   "source": [
    "descriptor protocol"
   ]
  },
  {
   "cell_type": "code",
   "execution_count": 8,
   "id": "b5c2822b",
   "metadata": {},
   "outputs": [
    {
     "name": "stdout",
     "output_type": "stream",
     "text": [
      "Square:  9\n",
      "Cube:    64\n",
      "Square:  25\n"
     ]
    }
   ],
   "source": [
    "class DescSquare:\n",
    "    def __get__(self, instance, owner):\n",
    "        return instance._square ** 2\n",
    "    def __set__(self, instance, value):\n",
    "        instance._square = value\n",
    "        \n",
    "class DescCube(object):\n",
    "    def __get__(self, instance, owner):\n",
    "        return instance._cube ** 3\n",
    "    \n",
    "class Powers(object):\n",
    "    square = DescSquare()\n",
    "    cube = DescCube()\n",
    "    def __init__(self, square, cube):\n",
    "        self._square = square\n",
    "        self._cube = cube\n",
    "        \n",
    "def main():\n",
    "    X = Powers(3, 4)\n",
    "    print(\"Square: \", X.square)                     # 3 ** 2 = 9\n",
    "    print(\"Cube:   \", X.cube)                       # 4 ** 3 = 64\n",
    "    X.square = 5                                    # 5 ** 2 = 25\n",
    "    print(\"Square: \", X.square) \n",
    "    \n",
    "main()"
   ]
  },
  {
   "cell_type": "markdown",
   "id": "f2a851c9",
   "metadata": {},
   "source": [
    "# Attribute Interception Demo 13"
   ]
  },
  {
   "cell_type": "code",
   "execution_count": 9,
   "id": "2b4b7584",
   "metadata": {},
   "outputs": [
    {
     "name": "stdout",
     "output_type": "stream",
     "text": [
      "Square:  9\n",
      "Cube:    64\n",
      "Square:  5\n"
     ]
    }
   ],
   "source": [
    "# same, but with generic __getattr__ undefined interception\n",
    "\n",
    "class Powers:\n",
    "    def __init__(self, square, cube):\n",
    "        self._square = square\n",
    "        self._cube = cube\n",
    "    def __getattr__(self, name):\n",
    "        if name == 'square':\n",
    "            return self._square ** 2\n",
    "        elif name == 'cube':\n",
    "            return self._cube ** 3\n",
    "        else:\n",
    "            raise TypeError('unknown attr: ' + name)\n",
    "    def __setattr__(self, name, value):\n",
    "        if name == 'square':\n",
    "            self.__dict__['square'] = value\n",
    "        else:\n",
    "            self.__dict__[name] = value\n",
    "            \n",
    "def main():\n",
    "    # square and cube are not attributrs of class!\n",
    "    X = Powers(3, 4)\n",
    "    print(\"Square: \", X.square)                     # 3 ** 2 = 9\n",
    "    print(\"Cube:   \", X.cube)                       # 4 ** 3 = 64\n",
    "    X.square = 5                                    # 5 ** 2 = 25\n",
    "    print(\"Square: \", X.square) \n",
    "    \n",
    "main()     "
   ]
  },
  {
   "cell_type": "markdown",
   "id": "96507b4b",
   "metadata": {},
   "source": [
    "# Attribute Interception Demo 14"
   ]
  },
  {
   "cell_type": "code",
   "execution_count": 14,
   "id": "109f49ab",
   "metadata": {},
   "outputs": [
    {
     "name": "stdout",
     "output_type": "stream",
     "text": [
      "Square:  9\n",
      "Cube:    64\n",
      "Square:  25\n"
     ]
    }
   ],
   "source": [
    "# same, but with generic __getattribute interception\n",
    "\n",
    "class Powers:\n",
    "    def __init__(self, square, cube):\n",
    "        self._square = square\n",
    "        self._cube = cube\n",
    "        \n",
    "    def __getattribute__(self, name):\n",
    "        if name == 'square':\n",
    "            return object.__getattribute__(self, '_square') ** 2\n",
    "        elif name == 'cube':\n",
    "            return object.__getattribute__(self, '_cube') ** 3\n",
    "        else:\n",
    "            return object.__getattribute__(self, name)\n",
    "    def __setattr__(self, name, value):\n",
    "        if name == 'square':\n",
    "            object.__setattr__(self, '_square', value)\n",
    "        else:\n",
    "            object.__setattr__(self, name, value)\n",
    "                    \n",
    "def main():\n",
    "    X = Powers(3, 4)\n",
    "    print(\"Square: \", X.square)                     # 3 ** 2 = 9\n",
    "    print(\"Cube:   \", X.cube)                       # 4 ** 3 = 64\n",
    "    X.square = 5                                    # 5 ** 2 = 25\n",
    "    print(\"Square: \", X.square) \n",
    "    \n",
    "main()       "
   ]
  },
  {
   "cell_type": "code",
   "execution_count": null,
   "id": "3db1b0a2",
   "metadata": {},
   "outputs": [],
   "source": []
  }
 ],
 "metadata": {
  "kernelspec": {
   "display_name": "Python 3 (ipykernel)",
   "language": "python",
   "name": "python3"
  },
  "language_info": {
   "codemirror_mode": {
    "name": "ipython",
    "version": 3
   },
   "file_extension": ".py",
   "mimetype": "text/x-python",
   "name": "python",
   "nbconvert_exporter": "python",
   "pygments_lexer": "ipython3",
   "version": "3.8.10"
  }
 },
 "nbformat": 4,
 "nbformat_minor": 5
}
