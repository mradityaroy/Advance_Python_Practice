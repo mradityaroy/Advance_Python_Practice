{
 "cells": [
  {
   "cell_type": "code",
   "execution_count": 2,
   "id": "2637192f",
   "metadata": {},
   "outputs": [
    {
     "ename": "TypeError",
     "evalue": "type.__new__() takes exactly 3 arguments (0 given)",
     "output_type": "error",
     "traceback": [
      "\u001b[0;31m---------------------------------------------------------------------------\u001b[0m",
      "\u001b[0;31mTypeError\u001b[0m                                 Traceback (most recent call last)",
      "Input \u001b[0;32mIn [2]\u001b[0m, in \u001b[0;36m<cell line: 70>\u001b[0;34m()\u001b[0m\n\u001b[1;32m     69\u001b[0m         \u001b[38;5;28;01mreturn\u001b[39;00m \u001b[38;5;124m\"\u001b[39m\u001b[38;5;124m1111\u001b[39m\u001b[38;5;124m\"\u001b[39m\n\u001b[1;32m     70\u001b[0m \u001b[38;5;28;01mif\u001b[39;00m \u001b[38;5;18m__name__\u001b[39m \u001b[38;5;241m==\u001b[39m \u001b[38;5;124m\"\u001b[39m\u001b[38;5;124m__main__\u001b[39m\u001b[38;5;124m\"\u001b[39m:\n\u001b[0;32m---> 71\u001b[0m     obj \u001b[38;5;241m=\u001b[39m \u001b[43mTest\u001b[49m\u001b[43m(\u001b[49m\u001b[43m)\u001b[49m\n\u001b[1;32m     72\u001b[0m     \u001b[38;5;28mprint\u001b[39m(obj\u001b[38;5;241m.\u001b[39mmethodA())\n",
      "\u001b[0;31mTypeError\u001b[0m: type.__new__() takes exactly 3 arguments (0 given)"
     ]
    }
   ],
   "source": [
    "try:\n",
    "    import datetime\n",
    "    import os\n",
    "    import sys\n",
    "    import sys\n",
    "    import logging\n",
    "except Exception as e:\n",
    "    print(\"Some Modules are Missing {}\".format(e))\n",
    "\n",
    "    \n",
    "    \n",
    "    \n",
    "class MetaClass(type):\n",
    "    \"\"\"Meta Class\"\"\"\n",
    "    def __call(cls, *args, **kwargs):\n",
    "        instance = super(Meta, cls).__call__(*args, **kwargs)\n",
    "        return instance\n",
    "    \n",
    "    def __init__(cls, name, base, attr):\n",
    "        super(Meta, cls).__init__(name, base, attr)\n",
    "        \n",
    "    \n",
    "    \n",
    "class log(object):\n",
    "    def __init__(self,func):\n",
    "        self.func = func\n",
    "    def __call__(self, *args, **kwargs):\n",
    "        \n",
    "        \"\"\"wrapper function\"\"\"\n",
    "        start = datetime.datetime.now()   #start time\n",
    "        Tem = self.func(*args, **kwargs)  #call function\n",
    "        FunName = self.func.__name__      #get function\n",
    "        end = datetime.datetime.now()     #end time\n",
    "        \n",
    "        \n",
    "        message = \"\"\"\n",
    "        \n",
    "        Function : {}\n",
    "        Execution Time: {}\n",
    "        Address: {}\n",
    "        Memory: {} Bytes\n",
    "        Date: {}\n",
    "        \"\"\".format(FunName,\n",
    "                  end-start,\n",
    "                  self.func.__name__,\n",
    "                  sys.getsizeof(self.func),\n",
    "                  start)\n",
    "        cwd = os.getcwd()\n",
    "        folder = 'Logs'\n",
    "        newPath = os.path.join(cwd, folder)\n",
    "        \n",
    "        try:\n",
    "            \"\"\" try to create a folder\"\"\"\n",
    "            os.mkdir(newPath)\n",
    "        except:\n",
    "            \"\"\"Directory already exist\"\"\"\n",
    "            logging.basicConfig(filename = '{}/nlog.log'.format(newPath), level= logging.DEBUG)\n",
    "            logging.debug(message)\n",
    "        return Tem\n",
    "    \n",
    "    \n",
    "class Test(MetaClass):\n",
    "    def __init__(self, *args, **kwargs):\n",
    "        pass\n",
    "    \n",
    "    @log\n",
    "    def methodA(self):\n",
    "        print(\"Hello\")\n",
    "        return \"1111\"\n",
    "if __name__ == \"__main__\":\n",
    "    obj = Test()\n",
    "    print(obj.methodA())\n",
    "        \n",
    "        "
   ]
  },
  {
   "cell_type": "code",
   "execution_count": 6,
   "id": "91e86e5d",
   "metadata": {},
   "outputs": [],
   "source": [
    "import datetime\n"
   ]
  },
  {
   "cell_type": "code",
   "execution_count": 7,
   "id": "f277521f",
   "metadata": {},
   "outputs": [
    {
     "data": {
      "text/plain": [
       "datetime.datetime(2022, 8, 8, 0, 37, 16, 443283)"
      ]
     },
     "execution_count": 7,
     "metadata": {},
     "output_type": "execute_result"
    }
   ],
   "source": []
  },
  {
   "cell_type": "code",
   "execution_count": null,
   "id": "e00f82f9",
   "metadata": {},
   "outputs": [],
   "source": []
  }
 ],
 "metadata": {
  "kernelspec": {
   "display_name": "Python 3 (ipykernel)",
   "language": "python",
   "name": "python3"
  },
  "language_info": {
   "codemirror_mode": {
    "name": "ipython",
    "version": 3
   },
   "file_extension": ".py",
   "mimetype": "text/x-python",
   "name": "python",
   "nbconvert_exporter": "python",
   "pygments_lexer": "ipython3",
   "version": "3.8.10"
  }
 },
 "nbformat": 4,
 "nbformat_minor": 5
}
