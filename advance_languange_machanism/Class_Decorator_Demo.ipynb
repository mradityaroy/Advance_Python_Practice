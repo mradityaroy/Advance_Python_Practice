{
 "cells": [
  {
   "cell_type": "markdown",
   "id": "b8b9c47e",
   "metadata": {},
   "source": [
    "# Class Decorator Demo 1"
   ]
  },
  {
   "cell_type": "code",
   "execution_count": 1,
   "id": "56716c5b",
   "metadata": {},
   "outputs": [
    {
     "name": "stdout",
     "output_type": "stream",
     "text": [
      "type(arg):  <class 'type'>\n"
     ]
    },
    {
     "ename": "TypeError",
     "evalue": "'int' object is not callable",
     "output_type": "error",
     "traceback": [
      "\u001b[0;31m---------------------------------------------------------------------------\u001b[0m",
      "\u001b[0;31mTypeError\u001b[0m                                 Traceback (most recent call last)",
      "Input \u001b[0;32mIn [1]\u001b[0m, in \u001b[0;36m<cell line: 23>\u001b[0;34m()\u001b[0m\n\u001b[1;32m     19\u001b[0m     inT \u001b[38;5;241m=\u001b[39m T()\n\u001b[1;32m     21\u001b[0m     sys\u001b[38;5;241m.\u001b[39mexit\n\u001b[0;32m---> 23\u001b[0m \u001b[43mmain\u001b[49m\u001b[43m(\u001b[49m\u001b[43m)\u001b[49m\n",
      "Input \u001b[0;32mIn [1]\u001b[0m, in \u001b[0;36mmain\u001b[0;34m()\u001b[0m\n\u001b[1;32m     18\u001b[0m \u001b[38;5;28;01mdef\u001b[39;00m \u001b[38;5;21mmain\u001b[39m():\n\u001b[0;32m---> 19\u001b[0m     inT \u001b[38;5;241m=\u001b[39m \u001b[43mT\u001b[49m\u001b[43m(\u001b[49m\u001b[43m)\u001b[49m\n\u001b[1;32m     21\u001b[0m     sys\u001b[38;5;241m.\u001b[39mexit\n",
      "\u001b[0;31mTypeError\u001b[0m: 'int' object is not callable"
     ]
    }
   ],
   "source": [
    "import sys\n",
    "\n",
    "def decorator(arg):\n",
    "    print(\"type(arg): \", type(arg))\n",
    "    return(10)\n",
    "    \n",
    "@decorator\n",
    "class T:\n",
    "    def __init__(self, n):\n",
    "        self.n = n\n",
    "        \n",
    "    def getn(self):\n",
    "        return self.n\n",
    "    \n",
    "    def setn(self, new_n):\n",
    "        self.n = new_n\n",
    "        \n",
    "def main():\n",
    "    inT = T()\n",
    "    \n",
    "    sys.exit\n",
    "    \n",
    "main()"
   ]
  },
  {
   "cell_type": "code",
   "execution_count": 43,
   "id": "670d781d",
   "metadata": {},
   "outputs": [
    {
     "name": "stdout",
     "output_type": "stream",
     "text": [
      "type(arg):  <class 'type'>\n",
      "type(inT):  <class '__main__.T'>\n"
     ]
    }
   ],
   "source": [
    "import sys\n",
    "\n",
    "def decorator(arg):\n",
    "    print(\"type(arg): \", type(arg))\n",
    "    return(arg)\n",
    "    \n",
    "@decorator\n",
    "class T:\n",
    "    def __init__(self, n):\n",
    "        self.n = n\n",
    "        \n",
    "    def getn(self):\n",
    "        return self.n\n",
    "    \n",
    "    def setn(self, new_n):\n",
    "        self.n = new_n\n",
    "        \n",
    "def main():\n",
    "    inT = T(100)\n",
    "    print(\"type(inT): \", type(inT))\n",
    "    \n",
    "    sys.exit\n",
    "    \n",
    "main()"
   ]
  },
  {
   "cell_type": "markdown",
   "id": "dbbd2794",
   "metadata": {},
   "source": [
    "# Class Decorator Demo 2"
   ]
  },
  {
   "cell_type": "code",
   "execution_count": 50,
   "id": "5cf418ac",
   "metadata": {},
   "outputs": [
    {
     "name": "stdout",
     "output_type": "stream",
     "text": [
      "type(arg):  <class 'type'>\n",
      "type(C):  <class 'type'>\n",
      "i am in getn\n",
      "100\n"
     ]
    }
   ],
   "source": [
    "import sys\n",
    "\n",
    "def decorator(arg):\n",
    "    print(\"type(arg): \", type(arg))\n",
    "    return arg\n",
    "    \n",
    "@decorator\n",
    "class C:\n",
    "    def __init__(self, n):\n",
    "        self.n = n\n",
    "        \n",
    "    def getn(self):\n",
    "        print(\"i am in getn\")\n",
    "        return self.n\n",
    "    \n",
    "    def setn(self, new_n):\n",
    "        self.n = new_n\n",
    "        \n",
    "def main():\n",
    "    print(\"type(C): \", type(C))\n",
    "    inC = C(100)\n",
    "#     re = inC.getn()\n",
    "#     print(re)\n",
    "    print(inC.getn())\n",
    "\n",
    "    \n",
    "    sys.exit\n",
    "    \n",
    "main()"
   ]
  },
  {
   "cell_type": "code",
   "execution_count": 25,
   "id": "34dedbdc",
   "metadata": {},
   "outputs": [],
   "source": [
    "class a:\n",
    "    def __init__(self):\n",
    "        pass\n",
    "inc = a()"
   ]
  },
  {
   "cell_type": "code",
   "execution_count": 27,
   "id": "9f61cbc6",
   "metadata": {},
   "outputs": [
    {
     "name": "stdout",
     "output_type": "stream",
     "text": [
      "<class '__main__.a'>\n"
     ]
    }
   ],
   "source": [
    "print(type(inc))"
   ]
  },
  {
   "cell_type": "markdown",
   "id": "fdad62f6",
   "metadata": {},
   "source": [
    "# Class Decorator Demo 3"
   ]
  },
  {
   "cell_type": "code",
   "execution_count": 51,
   "id": "22788cc1",
   "metadata": {},
   "outputs": [
    {
     "name": "stdout",
     "output_type": "stream",
     "text": [
      "spam\n",
      "attr: spam\n",
      "self.x: 6\n",
      "self.y: 7\n"
     ]
    }
   ],
   "source": [
    "import sys\n",
    "\n",
    "def decorator(cls):                         # on @ decoration\n",
    "    class  Wrapper:\n",
    "        def __init__(self, *args):          # on instance creation\n",
    "            self.wrapped = cls(*args)\n",
    "            \n",
    "        def __getattr__(self, name):        # on attributr fetch\n",
    "            return getattr(self.wrapped, name)\n",
    "        \n",
    "    return Wrapper\n",
    "\n",
    "@decorator\n",
    "class C:\n",
    "    def __init__(self, x, y):\n",
    "        self.attr = 'spam'\n",
    "        self.x = x\n",
    "        self.y = y\n",
    "        \n",
    "    def display(self):\n",
    "        print(\"attr:\", self.attr)\n",
    "        print(\"self.x:\", self.x)\n",
    "        print(\"self.y:\", self.y)\n",
    "        \n",
    "def main():\n",
    "    x = C(6, 7)                          # Really calls Wrapper\n",
    "    print(x.attr)                        # Runs Wrapper.__getattr__, prints \"spam\"\n",
    "    x.display()\n",
    "    \n",
    "    sys.exit\n",
    "    \n",
    "main()\n",
    "        "
   ]
  },
  {
   "cell_type": "markdown",
   "id": "4aae58c2",
   "metadata": {},
   "source": [
    "# Checking how works"
   ]
  },
  {
   "cell_type": "code",
   "execution_count": 68,
   "id": "77ed7ba4",
   "metadata": {},
   "outputs": [
    {
     "name": "stdout",
     "output_type": "stream",
     "text": [
      "i am in wrapper\n"
     ]
    },
    {
     "ename": "TypeError",
     "evalue": "__init__() missing 2 required positional arguments: 'x' and 'y'",
     "output_type": "error",
     "traceback": [
      "\u001b[0;31m---------------------------------------------------------------------------\u001b[0m",
      "\u001b[0;31mTypeError\u001b[0m                                 Traceback (most recent call last)",
      "Input \u001b[0;32mIn [68]\u001b[0m, in \u001b[0;36m<cell line: 23>\u001b[0;34m()\u001b[0m\n\u001b[1;32m     20\u001b[0m     \u001b[38;5;28mprint\u001b[39m(Wrapper())    \n\u001b[1;32m     21\u001b[0m     \u001b[38;5;28;01mreturn\u001b[39;00m Wrapper\n\u001b[1;32m     23\u001b[0m \u001b[38;5;129;43m@decorator\u001b[39;49m\n\u001b[0;32m---> 24\u001b[0m \u001b[38;5;28;43;01mclass\u001b[39;49;00m\u001b[43m \u001b[49m\u001b[38;5;21;43;01mC\u001b[39;49;00m\u001b[43m:\u001b[49m\n\u001b[1;32m     25\u001b[0m \u001b[43m    \u001b[49m\u001b[38;5;28;43;01mdef\u001b[39;49;00m\u001b[43m \u001b[49m\u001b[38;5;21;43m__init__\u001b[39;49m\u001b[43m(\u001b[49m\u001b[38;5;28;43mself\u001b[39;49m\u001b[43m,\u001b[49m\u001b[43m \u001b[49m\u001b[43mx\u001b[49m\u001b[43m,\u001b[49m\u001b[43m \u001b[49m\u001b[43my\u001b[49m\u001b[43m)\u001b[49m\u001b[43m:\u001b[49m\n\u001b[1;32m     26\u001b[0m \u001b[43m        \u001b[49m\u001b[38;5;28;43mself\u001b[39;49m\u001b[38;5;241;43m.\u001b[39;49m\u001b[43mattr\u001b[49m\u001b[43m \u001b[49m\u001b[38;5;241;43m=\u001b[39;49m\u001b[43m \u001b[49m\u001b[38;5;124;43m'\u001b[39;49m\u001b[38;5;124;43mspam\u001b[39;49m\u001b[38;5;124;43m'\u001b[39;49m\n",
      "Input \u001b[0;32mIn [68]\u001b[0m, in \u001b[0;36mdecorator\u001b[0;34m(cls)\u001b[0m\n\u001b[1;32m     12\u001b[0m             \u001b[38;5;66;03m# on attributr fetch\u001b[39;00m\n\u001b[1;32m     13\u001b[0m \u001b[38;5;66;03m#             print(\"__dict__: -> \", cls.__dict__, \" <-:\")\u001b[39;00m\n\u001b[1;32m     14\u001b[0m \u001b[38;5;66;03m#             print(\"self.wrapped:\", self.wrapped())\u001b[39;00m\n\u001b[1;32m     17\u001b[0m             \u001b[38;5;28;01mreturn\u001b[39;00m \u001b[38;5;28mgetattr\u001b[39m(\u001b[38;5;28mself\u001b[39m\u001b[38;5;241m.\u001b[39mwrapped, name)\n\u001b[0;32m---> 20\u001b[0m     \u001b[38;5;28mprint\u001b[39m(\u001b[43mWrapper\u001b[49m\u001b[43m(\u001b[49m\u001b[43m)\u001b[49m)    \n\u001b[1;32m     21\u001b[0m     \u001b[38;5;28;01mreturn\u001b[39;00m Wrapper\n",
      "Input \u001b[0;32mIn [68]\u001b[0m, in \u001b[0;36mdecorator.<locals>.Wrapper.__init__\u001b[0;34m(self, *args)\u001b[0m\n\u001b[1;32m      6\u001b[0m \u001b[38;5;28mprint\u001b[39m(\u001b[38;5;124m\"\u001b[39m\u001b[38;5;124mi am in wrapper\u001b[39m\u001b[38;5;124m\"\u001b[39m)\n\u001b[1;32m      7\u001b[0m \u001b[38;5;66;03m# on instance creation\u001b[39;00m\n\u001b[0;32m----> 8\u001b[0m \u001b[38;5;28mself\u001b[39m\u001b[38;5;241m.\u001b[39mwrapped \u001b[38;5;241m=\u001b[39m \u001b[38;5;28;43mcls\u001b[39;49m\u001b[43m(\u001b[49m\u001b[38;5;241;43m*\u001b[39;49m\u001b[43margs\u001b[49m\u001b[43m)\u001b[49m\n",
      "\u001b[0;31mTypeError\u001b[0m: __init__() missing 2 required positional arguments: 'x' and 'y'"
     ]
    }
   ],
   "source": [
    "import sys\n",
    "\n",
    "def decorator(cls):                         # on @ decoration\n",
    "    class  Wrapper:\n",
    "        def __init__(self, *args):\n",
    "            print(\"i am in wrapper\")\n",
    "            # on instance creation\n",
    "            self.wrapped = cls(*args)\n",
    "            \n",
    "        def __getattr__(self, name):\n",
    "            print(\"i am in __getaatr__\")\n",
    "            # on attributr fetch\n",
    "#             print(\"__dict__: -> \", cls.__dict__, \" <-:\")\n",
    "#             print(\"self.wrapped:\", self.wrapped())\n",
    "                \n",
    "    \n",
    "            return getattr(self.wrapped, name)\n",
    "        \n",
    "   \n",
    "    return Wrapper\n",
    "\n",
    "@decorator\n",
    "class C:\n",
    "    def __init__(self, x, y):\n",
    "        self.attr = 'spam'\n",
    "        self.x = x\n",
    "        self.y = y\n",
    "        \n",
    "    def display(self):\n",
    "        print(\"i am in c display\")\n",
    "        print(\"attr:\", self.attr)\n",
    "        print(\"self.x:\", self.x)\n",
    "        print(\"self.y:\", self.y)\n",
    "        \n",
    "def main():\n",
    "    x = C(6, 7)                          # Really calls Wrapper\n",
    "#     print(x.attr)                        # Runs Wrapper.__getattr__, prints \"spam\"\n",
    "    x.display()\n",
    "    \n",
    "    sys.exit\n",
    "    \n",
    "main()\n",
    "        "
   ]
  },
  {
   "cell_type": "code",
   "execution_count": 69,
   "id": "256754f1",
   "metadata": {},
   "outputs": [
    {
     "name": "stdout",
     "output_type": "stream",
     "text": [
      "Inside Wrapper.__init__:\n",
      "args[ 0 ]: 10\n",
      "args[ 1 ]: 20\n",
      "Inside Wrapper.__init__:\n",
      "args[ 0 ]: 10\n",
      "args[ 1 ]: 20\n",
      "args[ 2 ]: 30\n",
      "c 40\n",
      "d 50\n",
      "e 60\n",
      "Inside Wrapper.__init__:\n",
      "args[ 0 ]: 10\n",
      "args[ 1 ]: 20\n",
      "args[ 2 ]: 30\n",
      "args[ 3 ]: 40\n",
      "args[ 4 ]: 50\n",
      "x 10\n",
      "y 20\n",
      "type(w1): <class '__main__.Wrapper'> type(w2): <class '__main__.Wrapper'> type(w3): <class '__main__.Wrapper'>\n"
     ]
    }
   ],
   "source": [
    "class Wrapper:\n",
    "    def __init__(self, *args, **kwargs):\n",
    "        print(\"Inside Wrapper.__init__:\")\n",
    "        for i in range(len(args)):\n",
    "            print(\"args[\",i,\"]:\", args[i])\n",
    "        for k in kwargs.keys():\n",
    "            print(k, kwargs[k])\n",
    "            self.L = list(args)\n",
    "            self.D = kwargs\n",
    "            \n",
    "def decorator(arg):\n",
    "    print(\"type(arg):\", type(arg))\n",
    "    return Wrapper\n",
    "\n",
    "def main():\n",
    "    w1 = Wrapper(10, 20)\n",
    "    w2 = Wrapper(10, 20, 30, c=40, d=50, e=60)\n",
    "    w3 = Wrapper(10, 20, *(30, 40, 50), x=10, y=20)\n",
    "    print(\"type(w1):\", type(w1), \"type(w2):\", type(w2), \"type(w3):\", type(w3))\n",
    "    \n",
    "main()"
   ]
  },
  {
   "cell_type": "code",
   "execution_count": 70,
   "id": "4c00663d",
   "metadata": {},
   "outputs": [
    {
     "name": "stdout",
     "output_type": "stream",
     "text": [
      "type(arg): <class 'type'>\n",
      "Inside Wrapper.__init__:\n",
      "args[ 0 ]: 10\n",
      "args[ 1 ]: 20\n",
      "Inside Wrapper.__init__:\n",
      "args[ 0 ]: 10\n",
      "args[ 1 ]: 20\n",
      "args[ 2 ]: 30\n",
      "c 40\n",
      "d 50\n",
      "e 60\n",
      "Inside Wrapper.__init__:\n",
      "args[ 0 ]: 10\n",
      "args[ 1 ]: 20\n",
      "args[ 2 ]: 30\n",
      "args[ 3 ]: 40\n",
      "args[ 4 ]: 50\n",
      "x 10\n",
      "y 20\n",
      "type(w1): <class '__main__.Wrapper'> type(w2): <class '__main__.Wrapper'> type(w3): <class '__main__.Wrapper'>\n"
     ]
    }
   ],
   "source": [
    "class Wrapper:\n",
    "    def __init__(self, *args, **kwargs):\n",
    "        print(\"Inside Wrapper.__init__:\")\n",
    "        for i in range(len(args)):\n",
    "            print(\"args[\",i,\"]:\", args[i])\n",
    "        for k in kwargs.keys():\n",
    "            print(k, kwargs[k])\n",
    "            self.L = list(args)\n",
    "            self.D = kwargs\n",
    "            \n",
    "def decorator(arg):\n",
    "    print(\"type(arg):\", type(arg))\n",
    "    return Wrapper\n",
    "\n",
    "@decorator\n",
    "class C:\n",
    "    def __init__(self, n1, n2):\n",
    "        if type(n1) != int:\n",
    "            raise TypeError\n",
    "        if type(n2) != int:\n",
    "            raise TypeError\n",
    "        self.n1 = n1\n",
    "        self.n2 = n2\n",
    "\n",
    "def main():\n",
    "    w1 = Wrapper(10, 20)\n",
    "    w2 = Wrapper(10, 20, 30, c=40, d=50, e=60)\n",
    "    w3 = Wrapper(10, 20, *(30, 40, 50), x=10, y=20)\n",
    "    print(\"type(w1):\", type(w1), \"type(w2):\", type(w2), \"type(w3):\", type(w3))\n",
    "    \n",
    "main()"
   ]
  },
  {
   "cell_type": "code",
   "execution_count": 75,
   "id": "a18d9a27",
   "metadata": {},
   "outputs": [
    {
     "name": "stdout",
     "output_type": "stream",
     "text": [
      "Inside Wrapper.__init__:\n",
      "args[ 0 ]: 10\n",
      "args[ 1 ]: 20\n",
      "Inside Wrapper.__init__:\n",
      "args[ 0 ]: 10\n",
      "args[ 1 ]: 20\n",
      "args[ 2 ]: 30\n",
      "c 40\n",
      "d 50\n",
      "e 60\n",
      "Inside Wrapper.__init__:\n",
      "args[ 0 ]: 10\n",
      "args[ 1 ]: 20\n",
      "args[ 2 ]: 30\n",
      "args[ 3 ]: 40\n",
      "args[ 4 ]: 50\n",
      "x 10\n",
      "y 20\n",
      "type(w1): <class '__main__.Wrapper'> type(w2): <class '__main__.Wrapper'> type(w3): <class '__main__.Wrapper'>\n",
      "TypeError occured\n",
      "Once again TypeError exception\n"
     ]
    }
   ],
   "source": [
    "class Wrapper:\n",
    "    def __init__(self, *args, **kwargs):\n",
    "        print(\"Inside Wrapper.__init__:\")\n",
    "        for i in range(len(args)):\n",
    "            print(\"args[\",i,\"]:\", args[i])\n",
    "        for k in kwargs.keys():\n",
    "            print(k, kwargs[k])\n",
    "            self.L = list(args)\n",
    "            self.D = kwargs\n",
    "            \n",
    "def decorator(arg):\n",
    "    print(\"type(arg):\", type(arg))\n",
    "    return Wrapper\n",
    "\n",
    "#@decorator\n",
    "class C:\n",
    "    def __init__(self, n1, n2):\n",
    "        if type(n1) != int:\n",
    "            raise TypeError\n",
    "        if type(n2) != int:\n",
    "            raise TypeError\n",
    "        self.n1 = n1\n",
    "        self.n2 = n2\n",
    "\n",
    "def main():\n",
    "    w1 = Wrapper(10, 20)\n",
    "    w2 = Wrapper(10, 20, 30, c=40, d=50, e=60)\n",
    "    w3 = Wrapper(10, 20, *(30, 40, 50), x=10, y=20)\n",
    "    print(\"type(w1):\", type(w1), \"type(w2):\", type(w2), \"type(w3):\", type(w3))\n",
    "    try:\n",
    "        inC = C(\"Hello\", \"World\")\n",
    "    except TypeError:\n",
    "        print(\"TypeError occured\")\n",
    "    try:\n",
    "        inC = C(10, 20, *(30, 40, 50), x=10, y=20)\n",
    "    except TypeError:\n",
    "        print(\"Once again TypeError exception\")\n",
    "    \n",
    "main()"
   ]
  },
  {
   "cell_type": "code",
   "execution_count": 76,
   "id": "73b5e505",
   "metadata": {},
   "outputs": [
    {
     "name": "stdout",
     "output_type": "stream",
     "text": [
      "type(arg): <class 'type'>\n",
      "Inside Wrapper.__init__:\n",
      "args[ 0 ]: 10\n",
      "args[ 1 ]: 20\n",
      "Inside Wrapper.__init__:\n",
      "args[ 0 ]: 10\n",
      "args[ 1 ]: 20\n",
      "args[ 2 ]: 30\n",
      "c 40\n",
      "d 50\n",
      "e 60\n",
      "Inside Wrapper.__init__:\n",
      "args[ 0 ]: 10\n",
      "args[ 1 ]: 20\n",
      "args[ 2 ]: 30\n",
      "args[ 3 ]: 40\n",
      "args[ 4 ]: 50\n",
      "x 10\n",
      "y 20\n",
      "type(w1): <class '__main__.Wrapper'> type(w2): <class '__main__.Wrapper'> type(w3): <class '__main__.Wrapper'>\n",
      "Inside Wrapper.__init__:\n",
      "args[ 0 ]: Hello\n",
      "args[ 1 ]: World\n",
      "Inside Wrapper.__init__:\n",
      "args[ 0 ]: 10\n",
      "args[ 1 ]: 20\n",
      "args[ 2 ]: 30\n",
      "args[ 3 ]: 40\n",
      "args[ 4 ]: 50\n",
      "x 10\n",
      "y 20\n"
     ]
    }
   ],
   "source": [
    "class Wrapper:\n",
    "    def __init__(self, *args, **kwargs):\n",
    "        print(\"Inside Wrapper.__init__:\")\n",
    "        for i in range(len(args)):\n",
    "            print(\"args[\",i,\"]:\", args[i])\n",
    "        for k in kwargs.keys():\n",
    "            print(k, kwargs[k])\n",
    "            self.L = list(args)\n",
    "            self.D = kwargs\n",
    "            \n",
    "def decorator(arg):\n",
    "    print(\"type(arg):\", type(arg))\n",
    "    return Wrapper\n",
    "\n",
    "@decorator\n",
    "class C:\n",
    "    def __init__(self, n1, n2):\n",
    "        if type(n1) != int:\n",
    "            raise TypeError\n",
    "        if type(n2) != int:\n",
    "            raise TypeError\n",
    "        self.n1 = n1\n",
    "        self.n2 = n2\n",
    "\n",
    "def main():\n",
    "    w1 = Wrapper(10, 20)\n",
    "    w2 = Wrapper(10, 20, 30, c=40, d=50, e=60)\n",
    "    w3 = Wrapper(10, 20, *(30, 40, 50), x=10, y=20)\n",
    "    print(\"type(w1):\", type(w1), \"type(w2):\", type(w2), \"type(w3):\", type(w3))\n",
    "    try:\n",
    "        inC = C(\"Hello\", \"World\")\n",
    "    except TypeError:\n",
    "        print(\"TypeError occured\")\n",
    "    try:\n",
    "        inC = C(10, 20, *(30, 40, 50), x=10, y=20)\n",
    "    except TypeError:\n",
    "        print(\"Once again TypeError exception\")\n",
    "    \n",
    "main()"
   ]
  },
  {
   "cell_type": "markdown",
   "id": "6b9e5a5f",
   "metadata": {},
   "source": [
    "# Class Decorator Demo 4"
   ]
  },
  {
   "cell_type": "code",
   "execution_count": null,
   "id": "9c1e9822",
   "metadata": {},
   "outputs": [],
   "source": [
    "# Cannot create multiple instances\n",
    "class Decorator:\n",
    "    def __init__(self, C):                 # On @ decoration\n",
    "        self.C = C\n",
    "    def __call__(self, *args):             # On instance creation\n",
    "        self.wrapped = self.C(*args)       \n",
    "        return self\n",
    "    def __getattr__(self, attrname):       # On attribute fetch\n",
    "        return getattr(self, attrname)\n",
    "    \n",
    "@Decorator                  # C = Decorator(C)\n",
    "class C:\n",
    "    # some definition\n",
    "    \n",
    "x = C()\n",
    "y = C()                     # Overwrites x!"
   ]
  },
  {
   "cell_type": "markdown",
   "id": "41abc764",
   "metadata": {},
   "source": [
    "# Class Decorator Demo 5"
   ]
  },
  {
   "cell_type": "code",
   "execution_count": 93,
   "id": "822c4f30",
   "metadata": {},
   "outputs": [
    {
     "name": "stdout",
     "output_type": "stream",
     "text": [
      "i am in decorator\n",
      "returning onCall\n",
      "i am going to making c object but its goes where first wrapper or decorator\n",
      "i am in onCall\n",
      "i am in C\n",
      "i am in wrapper\n",
      "called..\n",
      "-----------------------------------------------------------------\n",
      "type(inC):  <class '__main__.Wrapper'>\n",
      "spam\n",
      "attr:  spam\n",
      "self.x:  100\n",
      "self.y:  200\n",
      "-----------------------------------------------------------------\n",
      "i am in onCall\n",
      "i am in C\n",
      "i am in wrapper\n",
      "------------------------- inC1.display -------------------------\n",
      "attr:  spam\n",
      "self.x:  300\n",
      "self.y:  400\n",
      "------------------------- inC.display -------------------------\n",
      "attr:  spam\n",
      "self.x:  100\n",
      "self.y:  200\n"
     ]
    }
   ],
   "source": [
    "# multiple instances\n",
    "import sys\n",
    "\n",
    "class Wrapper:\n",
    "    def __init__(self, arg):\n",
    "        print(\"i am in wrapper\")\n",
    "        self.wrapped = arg\n",
    "    def __getattr__(self, name):\n",
    "        return getattr(self.wrapped, name)\n",
    "    \n",
    "def decorator(C):\n",
    "    print(\"i am in decorator\")\n",
    "    def onCall(*args):\n",
    "        print(\"i am in onCall\")\n",
    "        return Wrapper(C(*args))\n",
    "    print(\"returning onCall\")\n",
    "    return onCall\n",
    "\n",
    "@decorator\n",
    "class C:\n",
    "    def __init__(self, x, y):\n",
    "        self.attr = \"spam\"\n",
    "        self.x = x\n",
    "        self.y = y\n",
    "        print(\"i am in C\")\n",
    "        \n",
    "    def display(self):\n",
    "        print(\"attr: \", self.attr)\n",
    "        print(\"self.x: \", self.x)\n",
    "        print(\"self.y: \", self.y)\n",
    "        \n",
    "def main():\n",
    "    print(\"i am going to making c object but its goes where first wrapper or decorator\")\n",
    "    inC = C(100, 200)\n",
    "    print(\"called..\")\n",
    "    print(\"-\"*65)\n",
    "    print(\"type(inC): \", type(inC))\n",
    "    print(inC.attr)\n",
    "    inC.display()\n",
    "    print(\"-\"*65)\n",
    "    inC1 = C(300, 400)\n",
    "    print(\"-\"*25, \"inC1.display\", \"-\"*25)\n",
    "    inC1.display()\n",
    "    print(\"-\"*25, \"inC.display\", \"-\"*25)\n",
    "    inC.display()\n",
    "    \n",
    "    sys.exit\n",
    "    \n",
    "main()"
   ]
  },
  {
   "cell_type": "code",
   "execution_count": null,
   "id": "e46db310",
   "metadata": {},
   "outputs": [],
   "source": []
  }
 ],
 "metadata": {
  "kernelspec": {
   "display_name": "Python 3 (ipykernel)",
   "language": "python",
   "name": "python3"
  },
  "language_info": {
   "codemirror_mode": {
    "name": "ipython",
    "version": 3
   },
   "file_extension": ".py",
   "mimetype": "text/x-python",
   "name": "python",
   "nbconvert_exporter": "python",
   "pygments_lexer": "ipython3",
   "version": "3.8.10"
  }
 },
 "nbformat": 4,
 "nbformat_minor": 5
}
