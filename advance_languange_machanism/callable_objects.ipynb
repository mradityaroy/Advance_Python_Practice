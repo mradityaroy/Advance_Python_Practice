{
 "cells": [
  {
   "cell_type": "code",
   "execution_count": 3,
   "id": "5513dc76",
   "metadata": {},
   "outputs": [
    {
     "name": "stdout",
     "output_type": "stream",
     "text": [
      "test_function: In test_function\n"
     ]
    }
   ],
   "source": [
    "import sys\n",
    "\n",
    "class TestClass:\n",
    "    def __init__(self, ref_fun):\n",
    "        self.function = ref_fun\n",
    "        \n",
    "    def __call__(self):\n",
    "        self.function()\n",
    "        \n",
    "def test_function():\n",
    "    print(\"test_function: In test_function\")\n",
    "    \n",
    "def main():\n",
    "    t1 = TestClass(test_function)\n",
    "    t1()  # Invoke __call__ passing t1 as self\n",
    "    sys.exit\n",
    "    \n",
    "main()"
   ]
  },
  {
   "cell_type": "code",
   "execution_count": 4,
   "id": "ded99550",
   "metadata": {},
   "outputs": [
    {
     "name": "stdout",
     "output_type": "stream",
     "text": [
      "calling function\n",
      "test_function: In test_function\n"
     ]
    }
   ],
   "source": [
    "import sys\n",
    "\n",
    "class TestClass:\n",
    "    def __init__(self, ref_fun):\n",
    "        self.function = ref_fun\n",
    "        \n",
    "    def __call__(self):\n",
    "        print(\"calling function\")\n",
    "        self.function()\n",
    "        \n",
    "def test_function():\n",
    "    print(\"test_function: In test_function\")\n",
    "    \n",
    "def main():\n",
    "    t1 = TestClass(test_function)\n",
    "    t1()  # Invoke __call__ passing t1 as self\n",
    "    sys.exit\n",
    "    \n",
    "main()"
   ]
  },
  {
   "cell_type": "code",
   "execution_count": 16,
   "id": "6f47ce28",
   "metadata": {},
   "outputs": [
    {
     "name": "stdout",
     "output_type": "stream",
     "text": [
      "hello world\n"
     ]
    }
   ],
   "source": [
    "def abc():\n",
    "    print(\"hello\",end = ' ')\n",
    "    def de():\n",
    "        print(\"world\")\n",
    "        \n",
    "    return de\n",
    "        \n",
    "\n",
    "a = abc\n",
    "a()()  "
   ]
  },
  {
   "cell_type": "markdown",
   "id": "d4e64f77",
   "metadata": {},
   "source": [
    "### passing arguement"
   ]
  },
  {
   "cell_type": "code",
   "execution_count": 19,
   "id": "39d9d018",
   "metadata": {},
   "outputs": [
    {
     "name": "stdout",
     "output_type": "stream",
     "text": [
      "test_function: In test_function\n",
      "9\n"
     ]
    }
   ],
   "source": [
    "import sys\n",
    "\n",
    "class TestClass:\n",
    "    def __init__(self, ref_fun):\n",
    "        self.function = ref_fun\n",
    "        \n",
    "    def __call__(self, *args, **kwargs):\n",
    "        self.function(*args, **kwargs)\n",
    "        \n",
    "def test_function(x,y):\n",
    "    print(\"test_function: In test_function\")\n",
    "    z = x+y\n",
    "    print(z)\n",
    "    \n",
    "def main():\n",
    "    t1 = TestClass(test_function)\n",
    "    t1(5,4)  # Invoke __call__ passing t1 as self\n",
    "    sys.exit\n",
    "    \n",
    "main()"
   ]
  },
  {
   "cell_type": "code",
   "execution_count": 22,
   "id": "b1772b4e",
   "metadata": {},
   "outputs": [
    {
     "name": "stdout",
     "output_type": "stream",
     "text": [
      "test_function: In test_function\n"
     ]
    }
   ],
   "source": [
    "import sys\n",
    "\n",
    "class TestClass:\n",
    "    def __init__(self, ref_fun):\n",
    "        self.function = ref_fun\n",
    "        \n",
    "    def __call__(self):\n",
    "        return self.function\n",
    "        \n",
    "def test_function():\n",
    "    print(\"test_function: In test_function\")\n",
    "    \n",
    "def main():\n",
    "    t1 = TestClass(test_function)\n",
    "    t1() # Invoke __call__ passing t1 as self\n",
    "    sys.exit\n",
    "    \n",
    "main()"
   ]
  },
  {
   "cell_type": "code",
   "execution_count": null,
   "id": "88b8e23d",
   "metadata": {},
   "outputs": [],
   "source": []
  }
 ],
 "metadata": {
  "kernelspec": {
   "display_name": "Python 3 (ipykernel)",
   "language": "python",
   "name": "python3"
  },
  "language_info": {
   "codemirror_mode": {
    "name": "ipython",
    "version": 3
   },
   "file_extension": ".py",
   "mimetype": "text/x-python",
   "name": "python",
   "nbconvert_exporter": "python",
   "pygments_lexer": "ipython3",
   "version": "3.8.10"
  }
 },
 "nbformat": 4,
 "nbformat_minor": 5
}
